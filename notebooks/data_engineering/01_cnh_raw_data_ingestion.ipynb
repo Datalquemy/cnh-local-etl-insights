{
 "cells": [
  {
   "cell_type": "code",
   "execution_count": 1,
   "id": "08464fe1-2194-465f-a500-89721408f242",
   "metadata": {},
   "outputs": [],
   "source": [
    "import pandas as pd\n",
    "import os"
   ]
  },
  {
   "cell_type": "code",
   "execution_count": 2,
   "id": "32d8cbee-f1a7-47a4-8ba1-223105296926",
   "metadata": {},
   "outputs": [],
   "source": [
    "# PASO 1: Ruta relativa desde CNH/PREP hacia CNH/SOURCE\n",
    "ruta_base = os.path.abspath(os.path.join(os.getcwd(), \"..\"))  # sube de PREP a CNH\n",
    "ruta_excel = os.path.join(ruta_base, \"SOURCE\", \"produccion_original.xlsx\")"
   ]
  },
  {
   "cell_type": "code",
   "execution_count": 5,
   "id": "1da4c711-51a7-4e18-8332-52827a392021",
   "metadata": {},
   "outputs": [
    {
     "name": "stdout",
     "output_type": "stream",
     "text": [
      "Hojas disponibles: ['Aceite y condensado', 'Gas Natural']\n"
     ]
    }
   ],
   "source": [
    "# PASO 2: Leer el archivo Excel\n",
    "xls = pd.ExcelFile(ruta_excel)\n",
    "print(\"Hojas disponibles:\", xls.sheet_names)"
   ]
  },
  {
   "cell_type": "code",
   "execution_count": 7,
   "id": "428e7139-c3e5-438f-9bd8-78316571e457",
   "metadata": {},
   "outputs": [],
   "source": [
    "# PASO 3: Leer las hojas específicas\n",
    "df_aceite = pd.read_excel(xls, sheet_name=\"Aceite y condensado\")\n",
    "df_gas = pd.read_excel(xls, sheet_name=\"Gas Natural\")\n"
   ]
  },
  {
   "cell_type": "code",
   "execution_count": 8,
   "id": "be5c9639-9f8a-4d3d-91a2-1d2d5d7432e1",
   "metadata": {},
   "outputs": [],
   "source": [
    "# PASO 4: Función para limpiar nombres de columnas\n",
    "def limpiar_columnas(df):\n",
    "    df.columns = (\n",
    "        df.columns\n",
    "        .str.strip()\n",
    "        .str.lower()\n",
    "        .str.replace(' ', '_', regex=True)\n",
    "        .str.replace('á', 'a', regex=False)\n",
    "        .str.replace('é', 'e', regex=False)\n",
    "        .str.replace('í', 'i', regex=False)\n",
    "        .str.replace('ó', 'o', regex=False)\n",
    "        .str.replace('ú', 'u', regex=False)\n",
    "        .str.replace('ñ', 'n', regex=False)\n",
    "        .str.replace(r'[^\\w_]', '', regex=True)\n",
    "    )\n",
    "    return df"
   ]
  },
  {
   "cell_type": "code",
   "execution_count": 9,
   "id": "c6c15fe1-afd4-42f7-b906-c27f879822de",
   "metadata": {},
   "outputs": [],
   "source": [
    "# PASO 5: Limpiar columnas\n",
    "df_aceite = limpiar_columnas(df_aceite)\n",
    "df_gas = limpiar_columnas(df_gas)\n"
   ]
  },
  {
   "cell_type": "code",
   "execution_count": 10,
   "id": "7be4250b-dd67-4ab1-8315-f12b4983eb1a",
   "metadata": {},
   "outputs": [
    {
     "data": {
      "text/html": [
       "<div>\n",
       "<style scoped>\n",
       "    .dataframe tbody tr th:only-of-type {\n",
       "        vertical-align: middle;\n",
       "    }\n",
       "\n",
       "    .dataframe tbody tr th {\n",
       "        vertical-align: top;\n",
       "    }\n",
       "\n",
       "    .dataframe thead th {\n",
       "        text-align: right;\n",
       "    }\n",
       "</style>\n",
       "<table border=\"1\" class=\"dataframe\">\n",
       "  <thead>\n",
       "    <tr style=\"text-align: right;\">\n",
       "      <th></th>\n",
       "      <th>fecha</th>\n",
       "      <th>cuenca</th>\n",
       "      <th>ubicacion</th>\n",
       "      <th>campo</th>\n",
       "      <th>operador</th>\n",
       "      <th>liquidos_mbd</th>\n",
       "      <th>petroleo_mbd</th>\n",
       "      <th>condensado_mbd</th>\n",
       "    </tr>\n",
       "  </thead>\n",
       "  <tbody>\n",
       "    <tr>\n",
       "      <th>0</th>\n",
       "      <td>1960-01-01</td>\n",
       "      <td>Burgos</td>\n",
       "      <td>Terrestre</td>\n",
       "      <td>BRASIL</td>\n",
       "      <td>PEMEX EXPLORACIÓN Y PRODUCCIÓN</td>\n",
       "      <td>0.000000</td>\n",
       "      <td>0.000000</td>\n",
       "      <td>NaN</td>\n",
       "    </tr>\n",
       "    <tr>\n",
       "      <th>1</th>\n",
       "      <td>1960-01-01</td>\n",
       "      <td>Burgos</td>\n",
       "      <td>Terrestre</td>\n",
       "      <td>FRANCISCO CANO</td>\n",
       "      <td>PEMEX EXPLORACIÓN Y PRODUCCIÓN</td>\n",
       "      <td>0.418995</td>\n",
       "      <td>0.418995</td>\n",
       "      <td>NaN</td>\n",
       "    </tr>\n",
       "  </tbody>\n",
       "</table>\n",
       "</div>"
      ],
      "text/plain": [
       "       fecha  cuenca  ubicacion           campo  \\\n",
       "0 1960-01-01  Burgos  Terrestre          BRASIL   \n",
       "1 1960-01-01  Burgos  Terrestre  FRANCISCO CANO   \n",
       "\n",
       "                         operador  liquidos_mbd  petroleo_mbd  condensado_mbd  \n",
       "0  PEMEX EXPLORACIÓN Y PRODUCCIÓN      0.000000      0.000000             NaN  \n",
       "1  PEMEX EXPLORACIÓN Y PRODUCCIÓN      0.418995      0.418995             NaN  "
      ]
     },
     "execution_count": 10,
     "metadata": {},
     "output_type": "execute_result"
    }
   ],
   "source": [
    "df_aceite.head(2)\n",
    "\n"
   ]
  },
  {
   "cell_type": "code",
   "execution_count": 15,
   "id": "fb55091c-950b-4fc7-aac3-f283248e831c",
   "metadata": {},
   "outputs": [],
   "source": [
    "# PASO 7: Definir carpeta de salida (BRONZE)\n",
    "ruta_bronze = os.path.join(ruta_base, \"BRONZE\")\n",
    "\n"
   ]
  },
  {
   "cell_type": "code",
   "execution_count": 17,
   "id": "d95072c6-ee4f-409f-b6ca-cc2f0c404b87",
   "metadata": {},
   "outputs": [],
   "source": [
    "# Asegurarse de que existe la carpeta\n",
    "os.makedirs(ruta_bronze, exist_ok=True)"
   ]
  },
  {
   "cell_type": "code",
   "execution_count": 19,
   "id": "d639b6cd-09d6-46b3-af8a-b5a775042305",
   "metadata": {},
   "outputs": [
    {
     "name": "stdout",
     "output_type": "stream",
     "text": [
      "✅ Archivos CSV generados en BRONZE.\n"
     ]
    }
   ],
   "source": [
    "# PASO 8: Exportar como CSV\n",
    "ruta_csv_aceite = os.path.join(ruta_bronze, \"aceite_condensado.csv\")\n",
    "ruta_csv_gas = os.path.join(ruta_bronze, \"gas_natural.csv\")\n",
    "\n",
    "df_aceite.to_csv(ruta_csv_aceite, index=False, encoding='utf-8-sig')\n",
    "df_gas.to_csv(ruta_csv_gas, index=False, encoding='utf-8-sig')\n",
    "\n",
    "print(\"✅ Archivos CSV generados en BRONZE.\")\n"
   ]
  },
  {
   "cell_type": "code",
   "execution_count": null,
   "id": "a0ee5f0a-ff10-44c8-9f83-c4917290a9fc",
   "metadata": {},
   "outputs": [],
   "source": []
  }
 ],
 "metadata": {
  "kernelspec": {
   "display_name": "Python [conda env:base] *",
   "language": "python",
   "name": "conda-base-py"
  },
  "language_info": {
   "codemirror_mode": {
    "name": "ipython",
    "version": 3
   },
   "file_extension": ".py",
   "mimetype": "text/x-python",
   "name": "python",
   "nbconvert_exporter": "python",
   "pygments_lexer": "ipython3",
   "version": "3.12.7"
  }
 },
 "nbformat": 4,
 "nbformat_minor": 5
}
