{
 "cells": [
  {
   "cell_type": "markdown",
   "id": "fe52f683-5c6f-4f83-a2b4-3260cb921071",
   "metadata": {},
   "source": [
    "# 02: Ingeniería de Características para Ayatsil (v2)\n",
    "\n",
    "* **Autor:** Emmanuel Eduardo\n",
    "* **Fecha de Versión:** 2025-07-20\n",
    "* **Versión:** 2.0 (Avanzada)\n",
    "* **Proyecto:** Pronóstico de Producción - CNH\n",
    "\n",
    "---\n",
    "\n",
    "## Objetivo\n",
    "Este notebook toma la serie de tiempo del campo **Ayatsil**, crea un conjunto de **características avanzadas** (rezagos a corto, mediano y largo plazo, estadísticas móviles complejas) y guarda el resultado en la capa GOLD.\n",
    "\n",
    "## Entradas\n",
    "* `gold/top_10_campos_timeseries.parquet`\n",
    "\n",
    "## Salidas\n",
    "* `gold/ayatsil_features_advanced_v2.parquet`"
   ]
  },
  {
   "cell_type": "code",
   "execution_count": 2,
   "id": "40ba2a48-1cbc-497b-83db-9032fc4dab5b",
   "metadata": {},
   "outputs": [],
   "source": [
    "import pandas as pd\n",
    "import numpy as np\n",
    "import os"
   ]
  },
  {
   "cell_type": "code",
   "execution_count": 4,
   "id": "4da4e98b-c9c6-4f72-a651-9829e646611d",
   "metadata": {},
   "outputs": [],
   "source": [
    "# --- 1. Configuración del Entorno ---\n",
    "ruta_base = os.path.abspath(os.path.join(os.getcwd(), \"..\",\"..\"))\n",
    "ruta_gold = os.path.join(ruta_base, \"gold\")\n"
   ]
  },
  {
   "cell_type": "code",
   "execution_count": 6,
   "id": "07d15231-f012-4ade-92eb-e6b5777c849a",
   "metadata": {},
   "outputs": [
    {
     "name": "stdout",
     "output_type": "stream",
     "text": [
      "Datos iniciales cargados.\n"
     ]
    }
   ],
   "source": [
    "# --- 2. Carga de Datos ---\n",
    "df_top_10 = pd.read_parquet(os.path.join(ruta_gold, \"top_10_campos_timeseries.parquet\"))\n",
    "print(\"Datos iniciales cargados.\")"
   ]
  },
  {
   "cell_type": "code",
   "execution_count": 8,
   "id": "cad52325-3768-4f21-b816-284abf5e16ed",
   "metadata": {},
   "outputs": [],
   "source": [
    "# --- 3. Preparación Base del Campo Ayatsil ---\n",
    "campo_elegido = \"AYATSIL\"\n",
    "df_campo = df_top_10[df_top_10['campo'] == campo_elegido].copy()\n",
    "df_campo['fecha'] = pd.to_datetime(df_campo['fecha'])\n",
    "df_campo.set_index('fecha', inplace=True)"
   ]
  },
  {
   "cell_type": "code",
   "execution_count": 10,
   "id": "4680e8b1-7bca-4a3d-ab7a-32a7f13682eb",
   "metadata": {},
   "outputs": [],
   "source": [
    "# --- 4. Ingeniería de Características (Simple y Avanzada) ---\n",
    "\n",
    "# Características simples (v1)\n",
    "df_campo['produccion_mes_anterior'] = df_campo['petroleo_mbd'].shift(1)\n",
    "df_campo['produccion_promedio_3m'] = df_campo['petroleo_mbd'].rolling(window=3).mean()\n",
    "df_campo['mes'] = df_campo.index.month\n",
    "df_campo['trimestre'] = df_campo.index.quarter\n",
    "\n",
    "# --- NUEVO: Características Avanzadas (v2) ---\n",
    "# Rezagos (Lags) a mediano y largo plazo\n",
    "df_campo['produccion_lag_6'] = df_campo['petroleo_mbd'].shift(6)\n",
    "df_campo['produccion_lag_12'] = df_campo['petroleo_mbd'].shift(12)"
   ]
  },
  {
   "cell_type": "code",
   "execution_count": 12,
   "id": "ec1978f3-6f9e-4d6e-81c6-24ef5e3fb3c8",
   "metadata": {},
   "outputs": [],
   "source": [
    "# Estadísticas Móviles (Rolling Stats) más complejas\n",
    "df_campo['produccion_roll_mean_6'] = df_campo['petroleo_mbd'].rolling(window=6).mean()\n",
    "df_campo['produccion_roll_std_6'] = df_campo['petroleo_mbd'].rolling(window=6).std()"
   ]
  },
  {
   "cell_type": "code",
   "execution_count": 14,
   "id": "eb84ea81-7954-4354-8cbd-a287293b48e8",
   "metadata": {},
   "outputs": [
    {
     "name": "stdout",
     "output_type": "stream",
     "text": [
      "Ingeniería de características avanzada completada para: AYATSIL.\n"
     ]
    }
   ],
   "source": [
    "# Componentes de fecha adicionales\n",
    "df_campo['año'] = df_campo.index.year\n",
    "\n",
    "print(f\"Ingeniería de características avanzada completada para: {campo_elegido}.\")"
   ]
  },
  {
   "cell_type": "code",
   "execution_count": 16,
   "id": "e6b1940a-3697-434b-a846-2c2bba7c2bc1",
   "metadata": {},
   "outputs": [],
   "source": [
    "# --- 5. Limpieza y Guardado del Dataset v2 ---\n",
    "# Eliminar filas con valores nulos (ahora se eliminarán más por el lag de 12 meses)\n",
    "df_modelo = df_campo.dropna()"
   ]
  },
  {
   "cell_type": "code",
   "execution_count": 20,
   "id": "fc959322-bd83-49c9-9e04-2a1390c3decf",
   "metadata": {},
   "outputs": [],
   "source": [
    "# Definir el nombre del archivo de salida para la v2\n",
    "nombre_archivo_salida = \"ayatsil_features_advanced_v2.parquet\"\n",
    "ruta_completa_salida = os.path.join(ruta_gold, nombre_archivo_salida)"
   ]
  },
  {
   "cell_type": "code",
   "execution_count": 24,
   "id": "6010b415-803a-4b98-8144-e04ef74413bc",
   "metadata": {},
   "outputs": [],
   "source": [
    "# Guardar el DataFrame final en la capa GOLD\n",
    "df_modelo.to_parquet(ruta_completa_salida)"
   ]
  },
  {
   "cell_type": "code",
   "execution_count": 26,
   "id": "96b34f52-eabf-4486-bd87-44779d22b692",
   "metadata": {},
   "outputs": [
    {
     "name": "stdout",
     "output_type": "stream",
     "text": [
      "\n",
      "Proceso finalizado.\n",
      "DataFrame con características avanzadas para AYATSIL guardado en:\n",
      "C:\\Users\\elezr\\Datalquemy\\Proyectos\\CNH\\gold\\ayatsil_features_advanced_v2.parquet\n"
     ]
    }
   ],
   "source": [
    "print(f\"\\nProceso finalizado.\")\n",
    "print(f\"DataFrame con características avanzadas para {campo_elegido} guardado en:\")\n",
    "print(ruta_completa_salida)"
   ]
  },
  {
   "cell_type": "code",
   "execution_count": null,
   "id": "c2dc675c-22bf-4486-bd9f-48beb694d5ff",
   "metadata": {},
   "outputs": [],
   "source": []
  }
 ],
 "metadata": {
  "kernelspec": {
   "display_name": "Python [conda env:base] *",
   "language": "python",
   "name": "conda-base-py"
  },
  "language_info": {
   "codemirror_mode": {
    "name": "ipython",
    "version": 3
   },
   "file_extension": ".py",
   "mimetype": "text/x-python",
   "name": "python",
   "nbconvert_exporter": "python",
   "pygments_lexer": "ipython3",
   "version": "3.12.7"
  }
 },
 "nbformat": 4,
 "nbformat_minor": 5
}
