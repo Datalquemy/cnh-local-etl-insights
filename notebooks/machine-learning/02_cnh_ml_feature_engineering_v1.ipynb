{
 "cells": [
  {
   "cell_type": "markdown",
   "id": "5b1dc8eb-4688-447f-8bc3-70e09be9e196",
   "metadata": {},
   "source": [
    "# 02: Ingeniería de Características para Ayatsil (v1)\n",
    "\n",
    "* **Autor:** Emmanuel Eduardo\n",
    "* **Fecha de Versión:** 2025-07-19\n",
    "* **Versión:** 1.0 (Simple)\n",
    "* **Proyecto:** Pronóstico de Producción - CNH\n",
    "\n",
    "## Objetivo\n",
    "Este notebook toma la serie de tiempo del campo **Ayatsil**, crea un conjunto de **características simples** (rezagos a corto plazo, promedios móviles) y guarda el resultado en la capa GOLD.\n",
    "\n",
    "## Entradas\n",
    "* `gold/top_10_campos_timeseries.parquet`\n",
    "\n",
    "## Salidas\n",
    "* `gold/ayatsil_features_simple_v1.parquet`"
   ]
  },
  {
   "cell_type": "code",
   "execution_count": null,
   "id": "5d0c41c1-5bef-467c-9f4c-1ceb8e48da22",
   "metadata": {},
   "outputs": [],
   "source": []
  },
  {
   "cell_type": "code",
   "execution_count": 27,
   "id": "670e0dcd-b484-4a56-be1e-338764af45fb",
   "metadata": {},
   "outputs": [],
   "source": [
    "import pandas as pd\n",
    "import xgboost as xgb\n",
    "from sklearn.model_selection import train_test_split\n",
    "from sklearn.metrics import mean_squared_error\n",
    "import numpy as np\n",
    "import os"
   ]
  },
  {
   "cell_type": "code",
   "execution_count": 29,
   "id": "f08aa2dd-1262-40d7-8f1c-f14783e42e01",
   "metadata": {},
   "outputs": [],
   "source": [
    "# =======================\n",
    "# 0. Definir ruta base del proyecto\n",
    "# =======================\n",
    "ruta_base = os.path.abspath(os.path.join(os.getcwd(), \"..\",\"..\"))\n",
    "ruta_gold = os.path.join(ruta_base, \"GOLD\")"
   ]
  },
  {
   "cell_type": "code",
   "execution_count": 31,
   "id": "300fc928-5d24-4255-83eb-19a821723aaa",
   "metadata": {},
   "outputs": [],
   "source": [
    "df_top_10 = pd.read_parquet(os.path.join(ruta_gold, \"top_10_campos_timeseries.parquet\"))"
   ]
  },
  {
   "cell_type": "code",
   "execution_count": 33,
   "id": "efd5cfc2-5904-45ce-9ae8-1bf2dffe1cba",
   "metadata": {},
   "outputs": [
    {
     "name": "stdout",
     "output_type": "stream",
     "text": [
      "Ingeniería de características simple completada para el campo: AYATSIL.\n"
     ]
    }
   ],
   "source": [
    "# --- 3. Ingeniería de Características para Ayatsil (Versión Simple) ---\n",
    "campo_elegido = \"AYATSIL\"\n",
    "df_campo = df_top_10[df_top_10['campo'] == campo_elegido].copy()\n",
    "df_campo['fecha'] = pd.to_datetime(df_campo['fecha'])\n",
    "df_campo.set_index('fecha', inplace=True)\n",
    "\n",
    "# Creación de las \"pistas\" o features\n",
    "df_campo['produccion_mes_anterior'] = df_campo['petroleo_mbd'].shift(1)\n",
    "df_campo['produccion_promedio_3m'] = df_campo['petroleo_mbd'].rolling(window=3).mean()\n",
    "df_campo['mes'] = df_campo.index.month\n",
    "df_campo['trimestre'] = df_campo.index.quarter\n",
    "print(f\"Ingeniería de características simple completada para el campo: {campo_elegido}.\")"
   ]
  },
  {
   "cell_type": "code",
   "execution_count": 35,
   "id": "0da54a0a-f651-4893-8134-97d6e3bf7da2",
   "metadata": {},
   "outputs": [],
   "source": [
    "# --- 4. Limpieza y Guardado del Dataset Procesado ---\n",
    "# Eliminar filas con valores nulos generados por las operaciones de ventana (shift y rolling)\n",
    "df_modelo = df_campo.dropna()\n",
    "\n",
    "# Definir el nombre del archivo de salida\n",
    "nombre_archivo_salida = \"ayatsil_features_for_training.parquet\"\n",
    "ruta_completa_salida = os.path.join(ruta_gold, nombre_archivo_salida)"
   ]
  },
  {
   "cell_type": "code",
   "execution_count": 37,
   "id": "df56d039-aeb8-41a7-9de1-22a1b43e3202",
   "metadata": {},
   "outputs": [
    {
     "name": "stdout",
     "output_type": "stream",
     "text": [
      "\n",
      "Proceso finalizado.\n",
      "DataFrame con características para AYATSIL guardado exitosamente en:\n",
      "C:\\Users\\elezr\\Datalquemy\\Proyectos\\CNH\\GOLD\\ayatsil_features_for_training.parquet\n"
     ]
    }
   ],
   "source": [
    "# Guardar el DataFrame final en la capa GOLD\n",
    "df_modelo.to_parquet(ruta_completa_salida)\n",
    "\n",
    "print(f\"\\nProceso finalizado.\")\n",
    "print(f\"DataFrame con características para {campo_elegido} guardado exitosamente en:\")\n",
    "print(ruta_completa_salida)\n",
    "\n"
   ]
  },
  {
   "cell_type": "code",
   "execution_count": null,
   "id": "11e3e87f-b680-44e6-a3df-ad68bb9eaa58",
   "metadata": {},
   "outputs": [],
   "source": []
  }
 ],
 "metadata": {
  "kernelspec": {
   "display_name": "Python [conda env:base] *",
   "language": "python",
   "name": "conda-base-py"
  },
  "language_info": {
   "codemirror_mode": {
    "name": "ipython",
    "version": 3
   },
   "file_extension": ".py",
   "mimetype": "text/x-python",
   "name": "python",
   "nbconvert_exporter": "python",
   "pygments_lexer": "ipython3",
   "version": "3.12.7"
  }
 },
 "nbformat": 4,
 "nbformat_minor": 5
}
