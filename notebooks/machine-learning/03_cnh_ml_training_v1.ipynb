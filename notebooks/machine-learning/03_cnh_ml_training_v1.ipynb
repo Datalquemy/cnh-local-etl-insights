{
 "cells": [
  {
   "cell_type": "markdown",
   "id": "2cbe4c86-b82b-4740-affd-2f8f775a508a",
   "metadata": {},
   "source": [
    "# 03: Entrenamiento del Modelo para Ayatsil (v1)\n",
    "\n",
    "* **Autor:** Tu Nombre\n",
    "* **Fecha de Versión:** 2025-07-19\n",
    "* **Versión:** 1.0 (Simple)\n",
    "* **Proyecto:** Pronóstico de Producción - CNH\n",
    "\n",
    "---\n",
    "\n",
    "## Objetivo\n",
    "Este notebook carga los datos con características simples de Ayatsil, entrena un modelo base XGBoost, lo evalúa y guarda los artefactos resultantes (modelo y evaluación).\n",
    "\n",
    "## Entradas\n",
    "* `gold/ayatsil_features_simple_v1.parquet`\n",
    "\n",
    "## Salidas\n",
    "* `ml/modelos/ayatsil_xgb_simple_v1.json`\n",
    "* `ml/evaluacion/eval_ayatsil_simple_v1.json`"
   ]
  },
  {
   "cell_type": "code",
   "execution_count": 35,
   "id": "46fcf0a9-a141-4ffd-95dc-477cfa5fbb64",
   "metadata": {},
   "outputs": [],
   "source": [
    "import xgboost as xgb\n",
    "from sklearn.model_selection import train_test_split\n",
    "from sklearn.metrics import mean_squared_error\n",
    "import numpy as np\n",
    "import json\n",
    "import os"
   ]
  },
  {
   "cell_type": "code",
   "execution_count": 37,
   "id": "4bb9db6b-fdc5-4b2e-af7a-44d4ed2f9c4d",
   "metadata": {},
   "outputs": [],
   "source": [
    "# 0. Definir rutas del proyecto\n",
    "ruta_base = os.path.abspath(os.path.join(os.getcwd(), \"..\",\"..\"))\n",
    "ruta_gold = os.path.join(ruta_base, \"gold\")\n",
    "ruta_modelos = os.path.join(ruta_base, \"ml\", \"modelos\")\n",
    "ruta_evaluacion = os.path.join(ruta_base, \"ml\", \"evaluacion\")"
   ]
  },
  {
   "cell_type": "code",
   "execution_count": 39,
   "id": "a6dfb040-7a32-4fd1-814b-1d5b53a2d052",
   "metadata": {},
   "outputs": [],
   "source": [
    "# 1. Cargar el dataset con características simples de AYATSIL\n",
    "df_modelo = pd.read_parquet(os.path.join(ruta_gold, \"ayatsil_features_for_training.parquet\"))"
   ]
  },
  {
   "cell_type": "code",
   "execution_count": 41,
   "id": "d53a2f2c-c46c-4532-8906-982e74485585",
   "metadata": {},
   "outputs": [
    {
     "name": "stdout",
     "output_type": "stream",
     "text": [
      "\n",
      "Características (X) y objetivo (y) definidos para Ayatsil (versión simple).\n"
     ]
    }
   ],
   "source": [
    "# 2. Definir Características (X) y Objetivo (y) - VERSIÓN SIMPLE\n",
    "features = [\n",
    "        'produccion_mes_anterior',\n",
    "        'produccion_promedio_3m',\n",
    "        'mes',\n",
    "        'trimestre'\n",
    "    ]\n",
    "target = 'petroleo_mbd'\n",
    "\n",
    "X = df_modelo[features]\n",
    "y = df_modelo[target]\n",
    "print(\"\\nCaracterísticas (X) y objetivo (y) definidos para Ayatsil (versión simple).\")\n"
   ]
  },
  {
   "cell_type": "code",
   "execution_count": 43,
   "id": "c6276ec0-bd4d-4ada-a42b-c3cfbeecb231",
   "metadata": {},
   "outputs": [],
   "source": [
    "# 3. Dividir los datos en Entrenamiento y Prueba\n",
    "X_train, X_test, y_train, y_test = train_test_split(X, y, test_size=0.2, shuffle=False)\n"
   ]
  },
  {
   "cell_type": "code",
   "execution_count": 45,
   "id": "d91804b9-0c46-432d-b15c-21557d8f229a",
   "metadata": {},
   "outputs": [
    {
     "name": "stdout",
     "output_type": "stream",
     "text": [
      "\n",
      "Modelo para Ayatsil (versión simple) entrenado con éxito.\n"
     ]
    }
   ],
   "source": [
    "# 4. Entrenar el Modelo XGBoost\n",
    "model = xgb.XGBRegressor(\n",
    "        objective='reg:squarederror',\n",
    "        n_estimators=1000,\n",
    "        learning_rate=0.05,\n",
    "        early_stopping_rounds=5\n",
    "    )\n",
    "    \n",
    "model.fit(\n",
    "        X_train, y_train,\n",
    "        eval_set=[(X_test, y_test)],\n",
    "        verbose=False\n",
    "    )\n",
    "print(\"\\nModelo para Ayatsil (versión simple) entrenado con éxito.\")"
   ]
  },
  {
   "cell_type": "code",
   "execution_count": 47,
   "id": "2a0b9f36-6752-46f1-a722-32b1b3251bc9",
   "metadata": {},
   "outputs": [
    {
     "name": "stdout",
     "output_type": "stream",
     "text": [
      "Evaluación completada. RMSE: 3.89\n",
      "\n",
      "--- ¡RESULTADO DEL MODELO V1: AYATSIL! ---\n",
      "Campo Analizado: Ayatsil\n",
      "Versión del Modelo: simple_v1\n",
      "Error (RMSE): 3.89 mbd\n",
      "---------------------------------------------\n",
      "Interpretación: En promedio, las predicciones del modelo se equivocan en 3.89 mil barriles diarios.\n"
     ]
    }
   ],
   "source": [
    "# 5. Evaluar el Modelo\n",
    "y_pred = model.predict(X_test)\n",
    "rmse = np.sqrt(mean_squared_error(y_test, y_pred))\n",
    "print(f\"Evaluación completada. RMSE: {rmse:.2f}\")\n",
    "# --- CÓDIGO AÑADIDO PARA MOSTRAR RESULTADO EN PANTALLA ---\n",
    "print(\"\\n--- ¡RESULTADO DEL MODELO V1: AYATSIL! ---\")\n",
    "print(f\"Campo Analizado: Ayatsil\")\n",
    "print(f\"Versión del Modelo: simple_v1\")\n",
    "print(f\"Error (RMSE): {rmse:.2f} mbd\")\n",
    "print(\"---------------------------------------------\")\n",
    "print(f\"Interpretación: En promedio, las predicciones del modelo se equivocan en {rmse:.2f} mil barriles diarios.\")\n"
   ]
  },
  {
   "cell_type": "code",
   "execution_count": null,
   "id": "315cf2d1-44e7-4841-85e5-48732cbfe28a",
   "metadata": {},
   "outputs": [],
   "source": []
  },
  {
   "cell_type": "code",
   "execution_count": 50,
   "id": "42860e3f-ef79-4532-940f-1af1539b9542",
   "metadata": {},
   "outputs": [
    {
     "name": "stdout",
     "output_type": "stream",
     "text": [
      "\n",
      "Modelo guardado en: C:\\Users\\elezr\\Datalquemy\\Proyectos\\CNH\\ml\\modelos\\ayatsil_xgb_simple_v1.json\n"
     ]
    }
   ],
   "source": [
    "# --- NUEVO: GUARDAR ACTIVOS DEL MODELO ---\n",
    "\n",
    "# 6. Guardar el Modelo Entrenado\n",
    "os.makedirs(ruta_modelos, exist_ok=True)\n",
    "ruta_modelo_salida = os.path.join(ruta_modelos, \"ayatsil_xgb_simple_v1.json\")\n",
    "model.save_model(ruta_modelo_salida)\n",
    "print(f\"\\nModelo guardado en: {ruta_modelo_salida}\")"
   ]
  },
  {
   "cell_type": "code",
   "execution_count": 52,
   "id": "d350b697-57d0-434d-b0dc-2d9e7735d9f0",
   "metadata": {},
   "outputs": [
    {
     "name": "stdout",
     "output_type": "stream",
     "text": [
      "Evaluación guardada en: C:\\Users\\elezr\\Datalquemy\\Proyectos\\CNH\\ml\\evaluacion\\eval_ayatsil_simple_v1.json\n"
     ]
    }
   ],
   "source": [
    "# 7. Guardar la Evaluación del Modelo\n",
    "os.makedirs(ruta_evaluacion, exist_ok=True)\n",
    "ruta_evaluacion_salida = os.path.join(ruta_evaluacion, \"eval_ayatsil_simple_v1.json\")\n",
    "\n",
    "info_evaluacion = {\n",
    "    \"nombre_modelo\": \"ayatsil_xgb_simple_v1\",\n",
    "    \"fecha_entrenamiento\": \"2025-07-18\",\n",
    "    \"metrica\": {\n",
    "        \"tipo\": \"RMSE\",\n",
    "        \"valor\": round(rmse, 2)\n",
    "    }\n",
    "}\n",
    "\n",
    "with open(ruta_evaluacion_salida, 'w') as f:\n",
    "    json.dump(info_evaluacion, f, indent=4)\n",
    "\n",
    "print(f\"Evaluación guardada en: {ruta_evaluacion_salida}\")"
   ]
  },
  {
   "cell_type": "code",
   "execution_count": null,
   "id": "6c4820a9-9246-4fd2-aa25-33bf4cf7499b",
   "metadata": {},
   "outputs": [],
   "source": []
  }
 ],
 "metadata": {
  "kernelspec": {
   "display_name": "Python [conda env:base] *",
   "language": "python",
   "name": "conda-base-py"
  },
  "language_info": {
   "codemirror_mode": {
    "name": "ipython",
    "version": 3
   },
   "file_extension": ".py",
   "mimetype": "text/x-python",
   "name": "python",
   "nbconvert_exporter": "python",
   "pygments_lexer": "ipython3",
   "version": "3.12.7"
  }
 },
 "nbformat": 4,
 "nbformat_minor": 5
}
