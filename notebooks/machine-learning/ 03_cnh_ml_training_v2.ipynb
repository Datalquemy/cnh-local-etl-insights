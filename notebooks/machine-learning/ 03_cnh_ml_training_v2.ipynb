{
 "cells": [
  {
   "cell_type": "markdown",
   "id": "86fc2ce2-9a44-4901-a2b2-0a9c9432f1d4",
   "metadata": {},
   "source": [
    "# 03: Entrenamiento del Modelo para Ayatsil (v2)\n",
    "\n",
    "* **Autor:** Emmanuel Eduardo\n",
    "* **Fecha de Versión:** 2025-07-21\n",
    "* **Versión:** 2.0 (Avanzada)\n",
    "* **Proyecto:** Pronóstico de Producción - CNH\n",
    "\n",
    "---\n",
    "\n",
    "## Objetivo\n",
    "Este notebook carga los datos con **características avanzadas** de Ayatsil, entrena un modelo XGBoost mejorado (v2), lo evalúa comparándolo con la v1 y guarda los nuevos artefactos.\n",
    "\n",
    "## Entradas\n",
    "* `gold/ayatsil_features_advanced_v2.parquet`\n",
    "\n",
    "## Salidas\n",
    "* `ml/modelos/ayatsil_xgb_advanced_v2.json`\n",
    "* `ml/evaluacion/eval_ayatsil_advanced_v2.json`"
   ]
  },
  {
   "cell_type": "code",
   "execution_count": 4,
   "id": "a9bf77fb-5c44-49ed-83a9-85e998b2ae00",
   "metadata": {},
   "outputs": [],
   "source": [
    "import pandas as pd\n",
    "import xgboost as xgb\n",
    "from sklearn.model_selection import train_test_split\n",
    "from sklearn.metrics import mean_squared_error\n",
    "import numpy as np\n",
    "import json\n",
    "import os\n"
   ]
  },
  {
   "cell_type": "code",
   "execution_count": 6,
   "id": "b4a50796-4592-4474-aa6b-0ae851cb6c17",
   "metadata": {},
   "outputs": [],
   "source": [
    "# 0. Definir rutas del proyecto\n",
    "ruta_base = os.path.abspath(os.path.join(os.getcwd(), \"..\",\"..\"))\n",
    "ruta_gold = os.path.join(ruta_base, \"gold\")\n",
    "ruta_modelos = os.path.join(ruta_base, \"ml\", \"modelos\")\n",
    "ruta_evaluacion = os.path.join(ruta_base, \"ml\", \"evaluacion\")"
   ]
  },
  {
   "cell_type": "code",
   "execution_count": 8,
   "id": "675a92db-2659-4802-94f6-98d7fc5ffc68",
   "metadata": {},
   "outputs": [],
   "source": [
    "# 1. Cargar el dataset con características AVANZADAS\n",
    "# --- CAMBIO: Se carga el nuevo archivo v2 ---\n",
    "df_modelo = pd.read_parquet(os.path.join(ruta_gold, \"ayatsil_features_advanced_v2.parquet\"))\n"
   ]
  },
  {
   "cell_type": "code",
   "execution_count": 10,
   "id": "6b684b3f-636d-4f8f-8898-8e3630c58b5e",
   "metadata": {},
   "outputs": [
    {
     "name": "stdout",
     "output_type": "stream",
     "text": [
      "\n",
      "Características (X) y objetivo (y) definidos para Ayatsil (versión avanzada).\n"
     ]
    }
   ],
   "source": [
    "# 2. Definir Características (X) y Objetivo (y) - VERSIÓN AVANZADA\n",
    "# --- CAMBIO: Se incluye la lista completa de features ---\n",
    "features = [\n",
    "        'produccion_mes_anterior',\n",
    "        'produccion_promedio_3m',\n",
    "        'mes',\n",
    "        'trimestre',\n",
    "        'produccion_lag_6',\n",
    "        'produccion_lag_12',\n",
    "        'produccion_roll_mean_6',\n",
    "        'produccion_roll_std_6',\n",
    "        'año'\n",
    "    ]\n",
    "target = 'petroleo_mbd'\n",
    "\n",
    "X = df_modelo[features]\n",
    "y = df_modelo[target]\n",
    "print(\"\\nCaracterísticas (X) y objetivo (y) definidos para Ayatsil (versión avanzada).\")"
   ]
  },
  {
   "cell_type": "code",
   "execution_count": 12,
   "id": "8adb687c-5946-46e3-ab15-a6a6d5d7ebd4",
   "metadata": {},
   "outputs": [
    {
     "name": "stdout",
     "output_type": "stream",
     "text": [
      "\n",
      "Modelo para Ayatsil (versión avanzada v2) entrenado con éxito.\n"
     ]
    }
   ],
   "source": [
    "# 3. Dividir los datos en Entrenamiento y Prueba\n",
    "X_train, X_test, y_train, y_test = train_test_split(X, y, test_size=0.2, shuffle=False)\n",
    "\n",
    "# 4. Entrenar el Modelo XGBoost v2\n",
    "model_v2 = xgb.XGBRegressor(\n",
    "        objective='reg:squarederror',\n",
    "        n_estimators=1000,\n",
    "        learning_rate=0.05,\n",
    "        early_stopping_rounds=5\n",
    "    )\n",
    "    \n",
    "model_v2.fit(\n",
    "        X_train, y_train,\n",
    "        eval_set=[(X_test, y_test)],\n",
    "        verbose=False\n",
    "    )\n",
    "print(\"\\nModelo para Ayatsil (versión avanzada v2) entrenado con éxito.\")"
   ]
  },
  {
   "cell_type": "code",
   "execution_count": 14,
   "id": "4d6ec762-8088-421f-ad9e-6093cc40bb4e",
   "metadata": {},
   "outputs": [
    {
     "name": "stdout",
     "output_type": "stream",
     "text": [
      "\n",
      "--- ¡RESULTADO DEL MODELO MEJORADO V2: AYATSIL! ---\n",
      "RMSE Anterior (v1): 3.89 mbd\n",
      "RMSE Nuevo    (v2): 3.46 mbd\n",
      "--------------------------------------------------\n",
      "¡Éxito! El error se redujo. Las nuevas características mejoraron el modelo.\n"
     ]
    }
   ],
   "source": [
    "# 5. Evaluar el Modelo y Mostrar Resultados Comparativos\n",
    "y_pred = model_v2.predict(X_test)\n",
    "rmse_v2 = np.sqrt(mean_squared_error(y_test, y_pred))\n",
    "rmse_v1 = 3.89 # El resultado de nuestro modelo anterior\n",
    "\n",
    "print(\"\\n--- ¡RESULTADO DEL MODELO MEJORADO V2: AYATSIL! ---\")\n",
    "print(f\"RMSE Anterior (v1): {rmse_v1} mbd\")\n",
    "print(f\"RMSE Nuevo    (v2): {rmse_v2:.2f} mbd\")\n",
    "print(\"--------------------------------------------------\")\n",
    "\n",
    "if rmse_v2 < rmse_v1:\n",
    "    print(\"¡Éxito! El error se redujo. Las nuevas características mejoraron el modelo.\")\n",
    "else:\n",
    "    print(\"El error no se redujo. Es un resultado de aprendizaje valioso.\")\n"
   ]
  },
  {
   "cell_type": "code",
   "execution_count": 16,
   "id": "dcbb9f43-4069-4ece-a61c-07ef8d342eb9",
   "metadata": {},
   "outputs": [
    {
     "name": "stdout",
     "output_type": "stream",
     "text": [
      "\n",
      "Modelo v2 guardado en: C:\\Users\\elezr\\Datalquemy\\Proyectos\\CNH\\ml\\modelos\\ayatsil_xgb_advanced_v2.json\n"
     ]
    }
   ],
   "source": [
    "# 6. Guardar el Modelo Entrenado v2\n",
    "os.makedirs(ruta_modelos, exist_ok=True)\n",
    "# --- CAMBIO: Nuevo nombre de archivo para el modelo v2 ---\n",
    "ruta_modelo_salida = os.path.join(ruta_modelos, \"ayatsil_xgb_advanced_v2.json\")\n",
    "model_v2.save_model(ruta_modelo_salida)\n",
    "print(f\"\\nModelo v2 guardado en: {ruta_modelo_salida}\")"
   ]
  },
  {
   "cell_type": "code",
   "execution_count": 18,
   "id": "74b4b167-397d-4520-a5a2-a5c2e5f7824c",
   "metadata": {},
   "outputs": [
    {
     "name": "stdout",
     "output_type": "stream",
     "text": [
      "Evaluación v2 guardada en: C:\\Users\\elezr\\Datalquemy\\Proyectos\\CNH\\ml\\evaluacion\\eval_ayatsil_advanced_v2.json\n"
     ]
    }
   ],
   "source": [
    "# 7. Guardar la Evaluación del Modelo v2\n",
    "os.makedirs(ruta_evaluacion, exist_ok=True)\n",
    "# --- CAMBIO: Nuevo nombre de archivo para la evaluación v2 ---\n",
    "ruta_evaluacion_salida = os.path.join(ruta_evaluacion, \"eval_ayatsil_advanced_v2.json\")\n",
    "\n",
    "info_evaluacion = {\n",
    "    \"nombre_modelo\": \"ayatsil_xgb_advanced_v2\",\n",
    "    \"fecha_entrenamiento\": \"2025-07-21\",\n",
    "    \"metrica\": {\n",
    "        \"tipo\": \"RMSE\",\n",
    "        \"valor\": round(rmse_v2, 2)\n",
    "    },\n",
    "    \"comparativa_v1\": {\n",
    "        \"rmse_v1\": rmse_v1\n",
    "    }\n",
    "}\n",
    "\n",
    "with open(ruta_evaluacion_salida, 'w') as f:\n",
    "    json.dump(info_evaluacion, f, indent=4)\n",
    "\n",
    "print(f\"Evaluación v2 guardada en: {ruta_evaluacion_salida}\")"
   ]
  },
  {
   "cell_type": "code",
   "execution_count": null,
   "id": "1ca1bc28-38bb-4d80-87d9-d43cbe10da1a",
   "metadata": {},
   "outputs": [],
   "source": []
  }
 ],
 "metadata": {
  "kernelspec": {
   "display_name": "Python [conda env:base] *",
   "language": "python",
   "name": "conda-base-py"
  },
  "language_info": {
   "codemirror_mode": {
    "name": "ipython",
    "version": 3
   },
   "file_extension": ".py",
   "mimetype": "text/x-python",
   "name": "python",
   "nbconvert_exporter": "python",
   "pygments_lexer": "ipython3",
   "version": "3.12.7"
  }
 },
 "nbformat": 4,
 "nbformat_minor": 5
}
