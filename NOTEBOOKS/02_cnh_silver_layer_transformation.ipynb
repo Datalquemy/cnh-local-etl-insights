{
 "cells": [
  {
   "cell_type": "code",
   "execution_count": 55,
   "id": "476698b0-af62-4681-90bd-dda7b0699b27",
   "metadata": {},
   "outputs": [
    {
     "name": "stdout",
     "output_type": "stream",
     "text": [
      "Requirement already satisfied: pyarrow in c:\\users\\elezr\\anaconda3\\lib\\site-packages (16.1.0)Note: you may need to restart the kernel to use updated packages.\n",
      "\n",
      "Requirement already satisfied: numpy>=1.16.6 in c:\\users\\elezr\\anaconda3\\lib\\site-packages (from pyarrow) (1.26.4)\n"
     ]
    }
   ],
   "source": [
    "pip install pyarrow"
   ]
  },
  {
   "cell_type": "code",
   "execution_count": 57,
   "id": "7b5719da-2d2c-4646-9605-e0e93a270340",
   "metadata": {},
   "outputs": [],
   "source": [
    "import pandas as pd\n",
    "import os"
   ]
  },
  {
   "cell_type": "code",
   "execution_count": 59,
   "id": "c5b2be28-17cf-41d5-bf97-66e038cf89d4",
   "metadata": {},
   "outputs": [],
   "source": [
    "# Ruta base del proyecto \n",
    "ruta_base = os.path.abspath(os.path.join(os.getcwd(), \"..\"))"
   ]
  },
  {
   "cell_type": "code",
   "execution_count": 61,
   "id": "a7a9e1f7-ad29-4827-bcd2-57b00f75da0d",
   "metadata": {},
   "outputs": [],
   "source": [
    "# Rutas de entrada (BRONZE)\n",
    "ruta_bronze = os.path.join(ruta_base, \"BRONZE\")\n",
    "csv_aceite = os.path.join(ruta_bronze, \"aceite_condensado.csv\")\n",
    "csv_gas = os.path.join(ruta_bronze, \"gas_natural.csv\")\n"
   ]
  },
  {
   "cell_type": "code",
   "execution_count": 65,
   "id": "f8a3a4d7-10fb-41e1-8c12-01598ca43f34",
   "metadata": {},
   "outputs": [],
   "source": [
    "# Rutas de salida (SILVER)\n",
    "ruta_silver = os.path.join(ruta_base, \"SILVER\")\n",
    "os.makedirs(ruta_silver, exist_ok=True)"
   ]
  },
  {
   "cell_type": "code",
   "execution_count": 67,
   "id": "af6ae29f-e0e4-4cf1-9f50-13bc9f067464",
   "metadata": {},
   "outputs": [],
   "source": [
    "# Cargar los CSV\n",
    "df_aceite = pd.read_csv(csv_aceite)\n",
    "df_gas = pd.read_csv(csv_gas)"
   ]
  },
  {
   "cell_type": "code",
   "execution_count": 69,
   "id": "40ced3ea-007a-4b30-bca9-592ce169a906",
   "metadata": {},
   "outputs": [
    {
     "data": {
      "text/html": [
       "<div>\n",
       "<style scoped>\n",
       "    .dataframe tbody tr th:only-of-type {\n",
       "        vertical-align: middle;\n",
       "    }\n",
       "\n",
       "    .dataframe tbody tr th {\n",
       "        vertical-align: top;\n",
       "    }\n",
       "\n",
       "    .dataframe thead th {\n",
       "        text-align: right;\n",
       "    }\n",
       "</style>\n",
       "<table border=\"1\" class=\"dataframe\">\n",
       "  <thead>\n",
       "    <tr style=\"text-align: right;\">\n",
       "      <th></th>\n",
       "      <th>fecha</th>\n",
       "      <th>cuenca</th>\n",
       "      <th>ubicacion</th>\n",
       "      <th>campo</th>\n",
       "      <th>operador</th>\n",
       "      <th>liquidos_mbd</th>\n",
       "      <th>petroleo_mbd</th>\n",
       "      <th>condensado_mbd</th>\n",
       "    </tr>\n",
       "  </thead>\n",
       "  <tbody>\n",
       "    <tr>\n",
       "      <th>0</th>\n",
       "      <td>1960-01-01</td>\n",
       "      <td>Burgos</td>\n",
       "      <td>Terrestre</td>\n",
       "      <td>BRASIL</td>\n",
       "      <td>PEMEX EXPLORACIÓN Y PRODUCCIÓN</td>\n",
       "      <td>0.000000</td>\n",
       "      <td>0.000000</td>\n",
       "      <td>NaN</td>\n",
       "    </tr>\n",
       "    <tr>\n",
       "      <th>1</th>\n",
       "      <td>1960-01-01</td>\n",
       "      <td>Burgos</td>\n",
       "      <td>Terrestre</td>\n",
       "      <td>FRANCISCO CANO</td>\n",
       "      <td>PEMEX EXPLORACIÓN Y PRODUCCIÓN</td>\n",
       "      <td>0.418995</td>\n",
       "      <td>0.418995</td>\n",
       "      <td>NaN</td>\n",
       "    </tr>\n",
       "  </tbody>\n",
       "</table>\n",
       "</div>"
      ],
      "text/plain": [
       "        fecha  cuenca  ubicacion           campo  \\\n",
       "0  1960-01-01  Burgos  Terrestre          BRASIL   \n",
       "1  1960-01-01  Burgos  Terrestre  FRANCISCO CANO   \n",
       "\n",
       "                         operador  liquidos_mbd  petroleo_mbd  condensado_mbd  \n",
       "0  PEMEX EXPLORACIÓN Y PRODUCCIÓN      0.000000      0.000000             NaN  \n",
       "1  PEMEX EXPLORACIÓN Y PRODUCCIÓN      0.418995      0.418995             NaN  "
      ]
     },
     "execution_count": 69,
     "metadata": {},
     "output_type": "execute_result"
    }
   ],
   "source": [
    "df_aceite.head(2)"
   ]
  },
  {
   "cell_type": "code",
   "execution_count": 71,
   "id": "f6f5dcf7-d522-4653-8645-f9469dae60cd",
   "metadata": {},
   "outputs": [
    {
     "name": "stdout",
     "output_type": "stream",
     "text": [
      "Min y max año: 1960 → 2025\n"
     ]
    }
   ],
   "source": [
    "print(\"Min y max año:\", pd.to_datetime(df_aceite[\"fecha\"]).dt.year.min(), \"→\", pd.to_datetime(df_aceite[\"fecha\"]).dt.year.max())"
   ]
  },
  {
   "cell_type": "code",
   "execution_count": 73,
   "id": "bbc47d6c-67a1-4c18-b2a9-bf7b0d6cfe2d",
   "metadata": {},
   "outputs": [],
   "source": [
    "# Quitar nulos\n",
    "df_aceite = df_aceite.dropna()\n",
    "df_gas = df_gas.dropna()"
   ]
  },
  {
   "cell_type": "code",
   "execution_count": 75,
   "id": "12eadb30-057e-4e74-b8cb-b0c64a4945e6",
   "metadata": {},
   "outputs": [
    {
     "name": "stdout",
     "output_type": "stream",
     "text": [
      "Revisión inicial:\n",
      "Campos únicos en aceite: 494\n",
      "Operadores únicos en aceite: 36\n",
      "Campos únicos en gas: 493\n",
      "Operadores únicos en gas: 36\n"
     ]
    }
   ],
   "source": [
    "# =======================\n",
    "# 1. Revisión inicial\n",
    "# =======================\n",
    "print(\"Revisión inicial:\")\n",
    "\n",
    "print(f\"Campos únicos en aceite: {df_aceite['campo'].nunique()}\")\n",
    "print(f\"Operadores únicos en aceite: {df_aceite['operador'].nunique()}\")\n",
    "\n",
    "print(f\"Campos únicos en gas: {df_gas['campo'].nunique()}\")\n",
    "print(f\"Operadores únicos en gas: {df_gas['operador'].nunique()}\")"
   ]
  },
  {
   "cell_type": "code",
   "execution_count": 77,
   "id": "5299a807-f630-4365-bbbf-6747b67861d2",
   "metadata": {},
   "outputs": [
    {
     "name": "stdout",
     "output_type": "stream",
     "text": [
      "Campos que producen solo aceite (1):\n",
      "['XAXAMANI']\n",
      "\n",
      "Campos que producen solo gas (0):\n",
      "[]\n",
      "\n",
      "Campos que producen tanto aceite como gas (493):\n",
      "['ABKATUN', 'ACAHUAL', 'ACATIL', 'ACTUL', 'ACUATEMPA', 'AGAVE', 'AGUA FRIA', 'AGUA NACIDA', 'AGUACATE', 'AHUATEPEC'] ...\n"
     ]
    }
   ],
   "source": [
    "# 1. Obtener sets únicos de campos\n",
    "campos_aceite = set(df_aceite[\"campo\"].unique())\n",
    "campos_gas = set(df_gas[\"campo\"].unique())\n",
    "\n",
    "# 2. Campos que están solo en aceite\n",
    "solo_aceite = campos_aceite - campos_gas\n",
    "print(f\"Campos que producen solo aceite ({len(solo_aceite)}):\")\n",
    "print(sorted(solo_aceite))\n",
    "\n",
    "# 3. Campos que están solo en gas\n",
    "solo_gas = campos_gas - campos_aceite\n",
    "print(f\"\\nCampos que producen solo gas ({len(solo_gas)}):\")\n",
    "print(sorted(solo_gas))\n",
    "\n",
    "# 4. Campos que producen ambos\n",
    "ambos = campos_aceite & campos_gas\n",
    "print(f\"\\nCampos que producen tanto aceite como gas ({len(ambos)}):\")\n",
    "print(sorted(ambos)[:10], \"...\")  # Mostramos solo los primeros 10 para no saturar\n"
   ]
  },
  {
   "cell_type": "code",
   "execution_count": 79,
   "id": "efc1f9fd-13ce-4aa6-bfa2-7d3dec438795",
   "metadata": {},
   "outputs": [
    {
     "name": "stdout",
     "output_type": "stream",
     "text": [
      "Producción total de XAXAMANI: 0.02 millones de barriles diarios (Mbd)\n",
      "Promedio diario: 0.02 Mbd (basado en 1 días)\n"
     ]
    }
   ],
   "source": [
    "# Filtrar registros del campo XAXAMANI\n",
    "xaxamani = df_aceite[df_aceite[\"campo\"] == \"XAXAMANI\"]\n",
    "\n",
    "# Calcular producción total y promedio\n",
    "total_xaxamani = xaxamani[\"petroleo_mbd\"].sum().round(2)\n",
    "promedio_xaxamani = xaxamani[\"petroleo_mbd\"].mean().round(2)\n",
    "conteo_dias = xaxamani.shape[0]\n",
    "\n",
    "print(f\"Producción total de XAXAMANI: {total_xaxamani} millones de barriles diarios (Mbd)\")\n",
    "print(f\"Promedio diario: {promedio_xaxamani} Mbd (basado en {conteo_dias} días)\")\n"
   ]
  },
  {
   "cell_type": "code",
   "execution_count": 81,
   "id": "e25032be-950e-4fc0-96bd-9fcb207a3c89",
   "metadata": {},
   "outputs": [
    {
     "name": "stdout",
     "output_type": "stream",
     "text": [
      "Resumen del campo XAXAMANI:\n",
      "Periodo de producción: August 2019 → August 2019\n",
      "Operador: HOKCHI ENERGY\n",
      "Cuenca: Cuencas del Sureste\n",
      "Producción total: 0.02 millones de barriles diarios (Mbd)\n",
      "Promedio diario: 0.02 Mbd (en 1 días de registro)\n"
     ]
    }
   ],
   "source": [
    "# Filtrar registros del campo XAXAMANI\n",
    "xaxamani = df_aceite[df_aceite[\"campo\"] == \"XAXAMANI\"].copy()\n",
    "\n",
    "# Asegurar formato de fecha\n",
    "xaxamani[\"fecha\"] = pd.to_datetime(xaxamani[\"fecha\"])\n",
    "\n",
    "# Periodo de producción\n",
    "fecha_inicio = xaxamani[\"fecha\"].min()\n",
    "fecha_fin = xaxamani[\"fecha\"].max()\n",
    "\n",
    "# Total y promedio\n",
    "total = xaxamani[\"petroleo_mbd\"].sum().round(2)\n",
    "promedio = xaxamani[\"petroleo_mbd\"].mean().round(2)\n",
    "conteo_dias = xaxamani.shape[0]\n",
    "\n",
    "# Operador y cuenca (tomamos el primero porque debe ser constante)\n",
    "operador = xaxamani[\"operador\"].iloc[0]\n",
    "cuenca = xaxamani[\"cuenca\"].iloc[0]\n",
    "\n",
    "# Mostrar resumen\n",
    "print(\"Resumen del campo XAXAMANI:\")\n",
    "print(f\"Periodo de producción: {fecha_inicio.strftime('%B %Y')} → {fecha_fin.strftime('%B %Y')}\")\n",
    "print(f\"Operador: {operador}\")\n",
    "print(f\"Cuenca: {cuenca}\")\n",
    "print(f\"Producción total: {total} millones de barriles diarios (Mbd)\")\n",
    "print(f\"Promedio diario: {promedio} Mbd (en {conteo_dias} días de registro)\")\n"
   ]
  },
  {
   "cell_type": "code",
   "execution_count": 83,
   "id": "7f382358-1bdd-4ef2-82ac-fcc23bccfb88",
   "metadata": {},
   "outputs": [],
   "source": [
    "# Contar registros con producción = 0\n",
    "ceros_aceite = (df_aceite[\"petroleo_mbd\"] == 0).sum()\n",
    "ceros_gas = (df_gas[\"gas_natural_sin_nitrogeno_mmpcd\"] == 0).sum()"
   ]
  },
  {
   "cell_type": "code",
   "execution_count": 85,
   "id": "e940324b-79ff-4f8b-8f95-cbb9caeb9951",
   "metadata": {},
   "outputs": [
    {
     "name": "stdout",
     "output_type": "stream",
     "text": [
      " Registros con producción de petróleo = 0: 17641\n",
      " Registros con producción de gas = 0: 87\n"
     ]
    }
   ],
   "source": [
    "print(f\" Registros con producción de petróleo = 0: {ceros_aceite}\")\n",
    "print(f\" Registros con producción de gas = 0: {ceros_gas}\")\n"
   ]
  },
  {
   "cell_type": "code",
   "execution_count": 87,
   "id": "b6577918-6b91-4fd9-a2ee-47476a034fe0",
   "metadata": {},
   "outputs": [],
   "source": [
    "\n",
    "# Filtrar producción mayor a 0\n",
    "df_aceite_limpio = df_aceite[df_aceite[\"petroleo_mbd\"] > 0]\n",
    "df_gas_limpio = df_gas[df_gas[\"gas_natural_sin_nitrogeno_mmpcd\"] > 0]"
   ]
  },
  {
   "cell_type": "code",
   "execution_count": 89,
   "id": "f10b07e5-1889-4351-8b9e-4de53f8924f5",
   "metadata": {},
   "outputs": [],
   "source": [
    "# Contar registros con producción = 0\n",
    "ceros_aceite = (df_aceite_limpio[\"petroleo_mbd\"] == 0).sum()\n",
    "ceros_gas = (df_gas_limpio[\"gas_natural_sin_nitrogeno_mmpcd\"] == 0).sum()"
   ]
  },
  {
   "cell_type": "code",
   "execution_count": 91,
   "id": "6c0a6f29-0dc3-4702-88fa-939dd7a3b7a8",
   "metadata": {},
   "outputs": [
    {
     "name": "stdout",
     "output_type": "stream",
     "text": [
      "Registros con producción de petróleo = 0: 0\n",
      "Registros con producción de gas = 0: 0\n"
     ]
    }
   ],
   "source": [
    "print(f\"Registros con producción de petróleo = 0: {ceros_aceite}\")\n",
    "print(f\"Registros con producción de gas = 0: {ceros_gas}\")"
   ]
  },
  {
   "cell_type": "code",
   "execution_count": 93,
   "id": "7a1bba14-7b9e-4cff-b663-56b271f7dbfa",
   "metadata": {},
   "outputs": [
    {
     "name": "stdout",
     "output_type": "stream",
     "text": [
      "Min y max año: 2016 → 2025\n"
     ]
    }
   ],
   "source": [
    "print(\"Min y max año:\", pd.to_datetime(df_aceite_limpio[\"fecha\"]).dt.year.min(), \"→\", pd.to_datetime(df_aceite_limpio[\"fecha\"]).dt.year.max())"
   ]
  },
  {
   "cell_type": "code",
   "execution_count": 95,
   "id": "81cb4bcd-529b-4fbe-9df3-24a1ef54596a",
   "metadata": {},
   "outputs": [
    {
     "data": {
      "text/html": [
       "<div>\n",
       "<style scoped>\n",
       "    .dataframe tbody tr th:only-of-type {\n",
       "        vertical-align: middle;\n",
       "    }\n",
       "\n",
       "    .dataframe tbody tr th {\n",
       "        vertical-align: top;\n",
       "    }\n",
       "\n",
       "    .dataframe thead th {\n",
       "        text-align: right;\n",
       "    }\n",
       "</style>\n",
       "<table border=\"1\" class=\"dataframe\">\n",
       "  <thead>\n",
       "    <tr style=\"text-align: right;\">\n",
       "      <th></th>\n",
       "      <th>fecha</th>\n",
       "      <th>cuenca</th>\n",
       "      <th>ubicacion</th>\n",
       "      <th>campo</th>\n",
       "      <th>operador</th>\n",
       "      <th>liquidos_mbd</th>\n",
       "      <th>petroleo_mbd</th>\n",
       "      <th>condensado_mbd</th>\n",
       "    </tr>\n",
       "  </thead>\n",
       "  <tbody>\n",
       "    <tr>\n",
       "      <th>170266</th>\n",
       "      <td>2016-01-01</td>\n",
       "      <td>Cinturon Plegado de Chiapas</td>\n",
       "      <td>Terrestre</td>\n",
       "      <td>CERRO NANCHITAL</td>\n",
       "      <td>PEMEX EXPLORACIÓN Y PRODUCCIÓN</td>\n",
       "      <td>0.582716</td>\n",
       "      <td>0.582716</td>\n",
       "      <td>0.0</td>\n",
       "    </tr>\n",
       "    <tr>\n",
       "      <th>170267</th>\n",
       "      <td>2016-01-01</td>\n",
       "      <td>Cuencas del Sureste</td>\n",
       "      <td>Aguas someras</td>\n",
       "      <td>MAY</td>\n",
       "      <td>PEMEX EXPLORACIÓN Y PRODUCCIÓN</td>\n",
       "      <td>15.446212</td>\n",
       "      <td>15.446212</td>\n",
       "      <td>0.0</td>\n",
       "    </tr>\n",
       "    <tr>\n",
       "      <th>170268</th>\n",
       "      <td>2016-01-01</td>\n",
       "      <td>Cuencas del Sureste</td>\n",
       "      <td>Aguas someras</td>\n",
       "      <td>ABKATUN</td>\n",
       "      <td>PEMEX EXPLORACIÓN Y PRODUCCIÓN</td>\n",
       "      <td>9.127253</td>\n",
       "      <td>9.127253</td>\n",
       "      <td>0.0</td>\n",
       "    </tr>\n",
       "    <tr>\n",
       "      <th>170269</th>\n",
       "      <td>2016-01-01</td>\n",
       "      <td>Cuencas del Sureste</td>\n",
       "      <td>Aguas someras</td>\n",
       "      <td>AKAL</td>\n",
       "      <td>PEMEX EXPLORACIÓN Y PRODUCCIÓN</td>\n",
       "      <td>80.170865</td>\n",
       "      <td>80.170865</td>\n",
       "      <td>0.0</td>\n",
       "    </tr>\n",
       "    <tr>\n",
       "      <th>170270</th>\n",
       "      <td>2016-01-01</td>\n",
       "      <td>Cuencas del Sureste</td>\n",
       "      <td>Aguas someras</td>\n",
       "      <td>AYATSIL</td>\n",
       "      <td>PEMEX EXPLORACIÓN Y PRODUCCIÓN</td>\n",
       "      <td>9.870175</td>\n",
       "      <td>9.870175</td>\n",
       "      <td>0.0</td>\n",
       "    </tr>\n",
       "  </tbody>\n",
       "</table>\n",
       "</div>"
      ],
      "text/plain": [
       "             fecha                       cuenca      ubicacion  \\\n",
       "170266  2016-01-01  Cinturon Plegado de Chiapas      Terrestre   \n",
       "170267  2016-01-01          Cuencas del Sureste  Aguas someras   \n",
       "170268  2016-01-01          Cuencas del Sureste  Aguas someras   \n",
       "170269  2016-01-01          Cuencas del Sureste  Aguas someras   \n",
       "170270  2016-01-01          Cuencas del Sureste  Aguas someras   \n",
       "\n",
       "                  campo                        operador  liquidos_mbd  \\\n",
       "170266  CERRO NANCHITAL  PEMEX EXPLORACIÓN Y PRODUCCIÓN      0.582716   \n",
       "170267              MAY  PEMEX EXPLORACIÓN Y PRODUCCIÓN     15.446212   \n",
       "170268          ABKATUN  PEMEX EXPLORACIÓN Y PRODUCCIÓN      9.127253   \n",
       "170269             AKAL  PEMEX EXPLORACIÓN Y PRODUCCIÓN     80.170865   \n",
       "170270          AYATSIL  PEMEX EXPLORACIÓN Y PRODUCCIÓN      9.870175   \n",
       "\n",
       "        petroleo_mbd  condensado_mbd  \n",
       "170266      0.582716             0.0  \n",
       "170267     15.446212             0.0  \n",
       "170268      9.127253             0.0  \n",
       "170269     80.170865             0.0  \n",
       "170270      9.870175             0.0  "
      ]
     },
     "execution_count": 95,
     "metadata": {},
     "output_type": "execute_result"
    }
   ],
   "source": [
    "df_aceite_limpio.head()"
   ]
  },
  {
   "cell_type": "code",
   "execution_count": 99,
   "id": "bef5e839-7265-413e-8008-2f4ae4138a8b",
   "metadata": {},
   "outputs": [],
   "source": [
    "# Limpiar campos de texto en df_aceite_limpio correctamente\n",
    "df_aceite_limpio.loc[:, \"operador\"] = df_aceite_limpio[\"operador\"].str.strip().str.upper()\n",
    "df_aceite_limpio.loc[:, \"campo\"] = df_aceite_limpio[\"campo\"].str.strip().str.upper()\n",
    "df_aceite_limpio.loc[:, \"cuenca\"] = df_aceite_limpio[\"cuenca\"].str.strip().str.upper()\n",
    "df_aceite_limpio.loc[:, \"ubicacion\"] = df_aceite_limpio[\"ubicacion\"].str.strip().str.upper()\n"
   ]
  },
  {
   "cell_type": "code",
   "execution_count": 105,
   "id": "0622ce72-e978-4825-84be-f97ea30d0903",
   "metadata": {},
   "outputs": [],
   "source": [
    "\n",
    "# Limpiar campos de texto en df_gas_limpio\n",
    "df_gas_limpio.loc[:, \"operador\"] = df_gas_limpio[\"operador\"].str.strip().str.upper()\n",
    "df_gas_limpio.loc[:, \"campo\"] = df_gas_limpio[\"campo\"].str.strip().str.upper()\n",
    "df_gas_limpio.loc[:, \"cuenca\"] = df_gas_limpio[\"cuenca\"].str.strip().str.upper()\n",
    "df_gas_limpio.loc[:, \"ubicacion\"] = df_gas_limpio[\"ubicacion\"].str.strip().str.upper()"
   ]
  },
  {
   "cell_type": "code",
   "execution_count": 107,
   "id": "3a218f37-a147-4524-903e-6cf43c2c80d5",
   "metadata": {},
   "outputs": [],
   "source": [
    "# Guardar en formato Parquet\n",
    "parquet_aceite = os.path.join(ruta_silver, \"aceite_condensado.parquet\")\n",
    "parquet_gas = os.path.join(ruta_silver, \"gas_natural.parquet\")"
   ]
  },
  {
   "cell_type": "code",
   "execution_count": 109,
   "id": "d4c6c83a-8117-4ca9-ac53-f45e9912e88b",
   "metadata": {},
   "outputs": [],
   "source": [
    "df_aceite_limpio.to_parquet(parquet_aceite, index=False)\n",
    "df_gas_limpio.to_parquet(parquet_gas, index=False)"
   ]
  },
  {
   "cell_type": "code",
   "execution_count": null,
   "id": "7c8a16d6-aa95-4099-96d2-664f76b9ce78",
   "metadata": {},
   "outputs": [],
   "source": [
    "print(\"✅ Datos limpios guardados en formato Parquet en la carpeta SILVER.\")\n"
   ]
  },
  {
   "cell_type": "code",
   "execution_count": null,
   "id": "56a188f6-4f8e-4605-a328-d8a9c58831cd",
   "metadata": {},
   "outputs": [],
   "source": []
  },
  {
   "cell_type": "code",
   "execution_count": null,
   "id": "4f411531-9526-4cf3-972d-e534f911311b",
   "metadata": {},
   "outputs": [],
   "source": []
  }
 ],
 "metadata": {
  "kernelspec": {
   "display_name": "Python [conda env:base] *",
   "language": "python",
   "name": "conda-base-py"
  },
  "language_info": {
   "codemirror_mode": {
    "name": "ipython",
    "version": 3
   },
   "file_extension": ".py",
   "mimetype": "text/x-python",
   "name": "python",
   "nbconvert_exporter": "python",
   "pygments_lexer": "ipython3",
   "version": "3.12.7"
  }
 },
 "nbformat": 4,
 "nbformat_minor": 5
}
