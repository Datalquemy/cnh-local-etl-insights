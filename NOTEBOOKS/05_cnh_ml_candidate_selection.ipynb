{
 "cells": [
  {
   "cell_type": "code",
   "execution_count": 1,
   "id": "a109ebb7-0996-4681-ab56-a2d44a0bf42d",
   "metadata": {},
   "outputs": [],
   "source": [
    "import pandas as pd\n",
    "import numpy as np\n",
    "from sklearn.linear_model import LinearRegression\n",
    "import os"
   ]
  },
  {
   "cell_type": "code",
   "execution_count": 5,
   "id": "08f8239d-7ce4-46b0-a9df-4f49dc125576",
   "metadata": {},
   "outputs": [],
   "source": [
    "# =======================\n",
    "# 0. Definir ruta base del proyecto\n",
    "# =======================\n",
    "ruta_base = os.path.abspath(os.path.join(os.getcwd(), \"..\"))\n",
    "ruta_gold = os.path.join(ruta_base, \"GOLD\")"
   ]
  },
  {
   "cell_type": "code",
   "execution_count": 11,
   "id": "ddc5972a-5c3c-438c-864f-ca151ad83b6b",
   "metadata": {},
   "outputs": [],
   "source": [
    "df_top_10 = pd.read_parquet(os.path.join(ruta_gold, \"top_10_campos_timeseries.parquet\"))"
   ]
  },
  {
   "cell_type": "code",
   "execution_count": 13,
   "id": "26afb1ec-2357-4766-862b-fa9f94f91bae",
   "metadata": {},
   "outputs": [],
   "source": [
    " # --- 2. Preparar el análisis de tendencias ---\n",
    "resultados_tendencia = []\n",
    "lista_campos = df_top_10['campo'].unique()"
   ]
  },
  {
   "cell_type": "code",
   "execution_count": 15,
   "id": "4befb605-056a-471e-89a1-9e3332796167",
   "metadata": {},
   "outputs": [
    {
     "name": "stdout",
     "output_type": "stream",
     "text": [
      "\n",
      "Analizando la tendencia de 10 campos...\n"
     ]
    }
   ],
   "source": [
    " print(f\"\\nAnalizando la tendencia de {len(lista_campos)} campos...\")"
   ]
  },
  {
   "cell_type": "code",
   "execution_count": 31,
   "id": "ff1e733b-8b31-4c93-b043-de1716d27cba",
   "metadata": {},
   "outputs": [],
   "source": [
    "# RESETEAR LA LISTA ANTES DE EMPEZAR EL CICLO\n",
    "resultados_tendencia = []"
   ]
  },
  {
   "cell_type": "code",
   "execution_count": 33,
   "id": "c0aaec91-6e2f-4bd5-bf73-b1be29e04e1f",
   "metadata": {},
   "outputs": [],
   "source": [
    "# --- 3. Iterar sobre cada campo y calcular su tendencia ---\n",
    "for campo_actual in lista_campos:\n",
    "# Filtrar el DataFrame para el campo actual\n",
    "        df_campo = df_top_10[df_top_10['campo'] == campo_actual].copy()\n",
    "        \n",
    "        # Asegurarse de que la fecha esté en formato datetime\n",
    "        df_campo['fecha'] = pd.to_datetime(df_campo['fecha'])\n",
    "        df_campo.sort_values('fecha', inplace=True)\n",
    "        \n",
    "        # Crear una variable numérica para el tiempo (X)\n",
    "        # Usaremos \"meses desde el inicio\" como nuestra variable X\n",
    "        df_campo['meses_desde_inicio'] = (df_campo['fecha'] - df_campo['fecha'].min()).dt.days // 30\n",
    "        \n",
    "        X = df_campo[['meses_desde_inicio']]\n",
    "        y = df_campo['petroleo_mbd']\n",
    "        \n",
    "        # Entrenar un modelo de regresión lineal simple\n",
    "        model = LinearRegression()\n",
    "        model.fit(X, y)\n",
    "        \n",
    "        # La pendiente del modelo es el coeficiente (coef_)\n",
    "        # Representa el cambio promedio en la producción por cada mes que pasa\n",
    "        pendiente = model.coef_[0]\n",
    "        \n",
    "        # Guardar el resultado\n",
    "        resultados_tendencia.append({'campo': campo_actual, 'tendencia_mensual': pendiente})\n"
   ]
  },
  {
   "cell_type": "code",
   "execution_count": 35,
   "id": "d057fc7e-6c33-47bd-8d42-9cdd4c88c22a",
   "metadata": {},
   "outputs": [],
   "source": [
    " # --- 4. Presentar los resultados ---\n",
    "df_tendencias = pd.DataFrame(resultados_tendencia)\n",
    "df_tendencias.sort_values(by='tendencia_mensual', ascending=False, inplace=True)\n",
    "df_tendencias.reset_index(drop=True, inplace=True)\n"
   ]
  },
  {
   "cell_type": "code",
   "execution_count": 37,
   "id": "d4534b9e-9eab-490a-acb1-a9e3a318c78e",
   "metadata": {},
   "outputs": [
    {
     "name": "stdout",
     "output_type": "stream",
     "text": [
      "\n",
      "--- Ranking de Campos por Tendencia de Producción ---\n",
      "(Una tendencia positiva significa crecimiento; negativa significa declive)\n",
      "     campo  tendencia_mensual\n",
      "0  AYATSIL           0.727245\n",
      "1    BALAM           0.482782\n",
      "2   YAXCHE           0.377404\n",
      "3     ONEL          -0.211003\n",
      "4     AKAL          -0.497544\n",
      "5      XUX          -0.661652\n",
      "6    XANAB          -0.942925\n",
      "7   MALOOB          -1.267807\n",
      "8       KU          -1.328334\n",
      "9     ZAAP          -1.433532\n"
     ]
    }
   ],
   "source": [
    "print(\"\\n--- Ranking de Campos por Tendencia de Producción ---\")\n",
    "print(\"(Una tendencia positiva significa crecimiento; negativa significa declive)\")\n",
    "print(df_tendencias)"
   ]
  },
  {
   "cell_type": "code",
   "execution_count": null,
   "id": "129c4c0d-a4a9-4797-b367-07fc494e1f99",
   "metadata": {},
   "outputs": [],
   "source": []
  }
 ],
 "metadata": {
  "kernelspec": {
   "display_name": "Python [conda env:base] *",
   "language": "python",
   "name": "conda-base-py"
  },
  "language_info": {
   "codemirror_mode": {
    "name": "ipython",
    "version": 3
   },
   "file_extension": ".py",
   "mimetype": "text/x-python",
   "name": "python",
   "nbconvert_exporter": "python",
   "pygments_lexer": "ipython3",
   "version": "3.12.7"
  }
 },
 "nbformat": 4,
 "nbformat_minor": 5
}
