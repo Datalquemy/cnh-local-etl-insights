{
 "cells": [
  {
   "cell_type": "code",
   "execution_count": 9,
   "id": "46fcf0a9-a141-4ffd-95dc-477cfa5fbb64",
   "metadata": {},
   "outputs": [],
   "source": [
    "import pandas as pd\n",
    "import xgboost as xgb\n",
    "from sklearn.model_selection import train_test_split\n",
    "from sklearn.metrics import mean_squared_error\n",
    "import numpy as np\n",
    "import os"
   ]
  },
  {
   "cell_type": "code",
   "execution_count": 11,
   "id": "4bb9db6b-fdc5-4b2e-af7a-44d4ed2f9c4d",
   "metadata": {},
   "outputs": [],
   "source": [
    "# =======================\n",
    "# 0. Definir ruta base del proyecto\n",
    "# =======================\n",
    "ruta_base = os.path.abspath(os.path.join(os.getcwd(), \"..\"))\n",
    "ruta_gold = os.path.join(ruta_base, \"GOLD\")"
   ]
  },
  {
   "cell_type": "code",
   "execution_count": 17,
   "id": "a6dfb040-7a32-4fd1-814b-1d5b53a2d052",
   "metadata": {},
   "outputs": [],
   "source": [
    "# --- 1. Cargar el dataset con características desde la capa GOLD ---\n",
    "df_modelo = pd.read_parquet(os.path.join(ruta_gold, \"maloob_features_for_training.parquet\"))\n"
   ]
  },
  {
   "cell_type": "code",
   "execution_count": 21,
   "id": "d53a2f2c-c46c-4532-8906-982e74485585",
   "metadata": {},
   "outputs": [],
   "source": [
    "# --- 2. Definir Características (X) y Objetivo (y) ---\n",
    "features = ['produccion_mes_anterior', 'produccion_promedio_3m', 'mes', 'trimestre']\n",
    "target = 'petroleo_mbd'\n",
    "\n",
    "X = df_modelo[features]\n",
    "y = df_modelo[target]"
   ]
  },
  {
   "cell_type": "code",
   "execution_count": 23,
   "id": "0bb1b83f-b47a-421a-8157-c97b7e69e210",
   "metadata": {},
   "outputs": [
    {
     "name": "stdout",
     "output_type": "stream",
     "text": [
      "\n",
      "Datos divididos: 85 filas para entrenamiento, 22 filas para prueba.\n"
     ]
    }
   ],
   "source": [
    "# --- 3. Dividir los datos en Entrenamiento y Prueba ---\n",
    "# Usaremos el 80% de los datos para entrenar y el 20% más reciente para probar.\n",
    "X_train, X_test, y_train, y_test = train_test_split(X, y, test_size=0.2, shuffle=False)\n",
    "print(f\"\\nDatos divididos: {len(X_train)} filas para entrenamiento, {len(X_test)} filas para prueba.\")  "
   ]
  },
  {
   "cell_type": "code",
   "execution_count": 27,
   "id": "5119dfbb-af2c-44d3-9996-8b70fa78bdcc",
   "metadata": {},
   "outputs": [],
   "source": [
    "# --- 4. Entrenar el Modelo XGBoost ---\n",
    "model = xgb.XGBRegressor(\n",
    "        objective='reg:squarederror',\n",
    "        n_estimators=1000,\n",
    "        learning_rate=0.05,\n",
    "        early_stopping_rounds=5 # Detiene el entrenamiento si el modelo no mejora\n",
    "    )"
   ]
  },
  {
   "cell_type": "code",
   "execution_count": 29,
   "id": "6b21b535-05e3-4bc6-b952-d68554191613",
   "metadata": {},
   "outputs": [
    {
     "name": "stdout",
     "output_type": "stream",
     "text": [
      "Modelo entrenado exitosamente.\n"
     ]
    }
   ],
   "source": [
    "# Entrenar el modelo usando los datos de prueba para la validación\n",
    "model.fit(\n",
    "        X_train, y_train,\n",
    "        eval_set=[(X_test, y_test)],\n",
    "        verbose=False # No muestra todos los pasos del entrenamiento en pantalla\n",
    "    )\n",
    "print(\"Modelo entrenado exitosamente.\")"
   ]
  },
  {
   "cell_type": "code",
   "execution_count": 31,
   "id": "f60f1692-ed55-42c8-b47a-f1de470abadd",
   "metadata": {},
   "outputs": [],
   "source": [
    "# --- 5. Evaluar el Modelo ---\n",
    "# Realizar predicciones sobre el conjunto de prueba\n",
    "y_pred = model.predict(X_test)"
   ]
  },
  {
   "cell_type": "code",
   "execution_count": 33,
   "id": "f1925d39-483f-4287-9ef1-a37dff89f718",
   "metadata": {},
   "outputs": [
    {
     "name": "stdout",
     "output_type": "stream",
     "text": [
      "\n",
      "Evaluación del modelo completada.\n",
      "Error Cuadrático Medio (RMSE): 4.77\n",
      "Esto significa que, en promedio, las predicciones del modelo se equivocan en 4.77 mil barriles diarios.\n"
     ]
    }
   ],
   "source": [
    " # Calcular el error\n",
    "rmse = np.sqrt(mean_squared_error(y_test, y_pred))\n",
    "    \n",
    "print(\"\\nEvaluación del modelo completada.\")\n",
    "print(f\"Error Cuadrático Medio (RMSE): {rmse:.2f}\")\n",
    "print(f\"Esto significa que, en promedio, las predicciones del modelo se equivocan en {rmse:.2f} mil barriles diarios.\")"
   ]
  },
  {
   "cell_type": "code",
   "execution_count": null,
   "id": "44026153-24de-4fef-8c52-971a4a3fde45",
   "metadata": {},
   "outputs": [],
   "source": []
  }
 ],
 "metadata": {
  "kernelspec": {
   "display_name": "Python [conda env:base] *",
   "language": "python",
   "name": "conda-base-py"
  },
  "language_info": {
   "codemirror_mode": {
    "name": "ipython",
    "version": 3
   },
   "file_extension": ".py",
   "mimetype": "text/x-python",
   "name": "python",
   "nbconvert_exporter": "python",
   "pygments_lexer": "ipython3",
   "version": "3.12.7"
  }
 },
 "nbformat": 4,
 "nbformat_minor": 5
}
