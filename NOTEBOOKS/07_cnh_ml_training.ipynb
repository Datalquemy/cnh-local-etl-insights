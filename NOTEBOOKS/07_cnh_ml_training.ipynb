{
 "cells": [
  {
   "cell_type": "code",
   "execution_count": 35,
   "id": "46fcf0a9-a141-4ffd-95dc-477cfa5fbb64",
   "metadata": {},
   "outputs": [],
   "source": [
    "import pandas as pd\n",
    "import xgboost as xgb\n",
    "from sklearn.model_selection import train_test_split\n",
    "from sklearn.metrics import mean_squared_error\n",
    "import numpy as np\n",
    "import os"
   ]
  },
  {
   "cell_type": "code",
   "execution_count": 37,
   "id": "4bb9db6b-fdc5-4b2e-af7a-44d4ed2f9c4d",
   "metadata": {},
   "outputs": [],
   "source": [
    "# =======================\n",
    "# 0. Definir ruta base del proyecto\n",
    "# =======================\n",
    "ruta_base = os.path.abspath(os.path.join(os.getcwd(), \"..\"))\n",
    "ruta_gold = os.path.join(ruta_base, \"GOLD\")"
   ]
  },
  {
   "cell_type": "code",
   "execution_count": 43,
   "id": "a6dfb040-7a32-4fd1-814b-1d5b53a2d052",
   "metadata": {},
   "outputs": [],
   "source": [
    "# --- 1. Cargar el dataset con características desde la capa GOLD ---\n",
    "df_modelo = pd.read_parquet(os.path.join(ruta_gold, \"maloob_features_for_training.parquet\"))"
   ]
  },
  {
   "cell_type": "code",
   "execution_count": 45,
   "id": "d53a2f2c-c46c-4532-8906-982e74485585",
   "metadata": {},
   "outputs": [
    {
     "name": "stdout",
     "output_type": "stream",
     "text": [
      "\n",
      "Características (X) y objetivo (y) definidos.\n"
     ]
    }
   ],
   "source": [
    "# --- 3. Definir las nuevas Características (X) y el Objetivo (y) ---\n",
    "# Incluimos TODAS las nuevas \"pistas\" que creamos.\n",
    "features = [\n",
    "        'produccion_lag_1',\n",
    "        'produccion_lag_6',\n",
    "        'produccion_lag_12',\n",
    "        'produccion_roll_mean_6',\n",
    "        'produccion_roll_std_6',\n",
    "        'mes',\n",
    "        'trimestre',\n",
    "        'año'\n",
    "    ]\n",
    "target = 'petroleo_mbd'\n",
    "\n",
    "X = df_modelo[features]\n",
    "y = df_modelo[target]\n",
    "print(\"\\nCaracterísticas (X) y objetivo (y) definidos.\")"
   ]
  },
  {
   "cell_type": "code",
   "execution_count": 47,
   "id": "44026153-24de-4fef-8c52-971a4a3fde45",
   "metadata": {},
   "outputs": [
    {
     "name": "stdout",
     "output_type": "stream",
     "text": [
      "Datos divididos: 77 filas para entrenamiento, 20 filas para prueba.\n",
      "Modelo re-entrenado con éxito usando las nuevas características.\n"
     ]
    }
   ],
   "source": [
    "# --- 4. Dividir los datos en Entrenamiento y Prueba ---\n",
    "# Mantenemos la misma estrategia de división para una comparación justa.\n",
    "X_train, X_test, y_train, y_test = train_test_split(X, y, test_size=0.2, shuffle=False)\n",
    "print(f\"Datos divididos: {len(X_train)} filas para entrenamiento, {len(X_test)} filas para prueba.\")\n",
    "\n",
    "# --- 5. Entrenar el Modelo XGBoost ---\n",
    "# Usamos la misma configuración del modelo para ver el impacto REAL de las nuevas características.\n",
    "model = xgb.XGBRegressor(\n",
    "        objective='reg:squarederror',\n",
    "        n_estimators=1000,\n",
    "        learning_rate=0.05,\n",
    "        early_stopping_rounds=5\n",
    "    )\n",
    "    \n",
    "model.fit(\n",
    "        X_train, y_train,\n",
    "        eval_set=[(X_test, y_test)],\n",
    "        verbose=False\n",
    "    )\n",
    "print(\"Modelo re-entrenado con éxito usando las nuevas características.\")"
   ]
  },
  {
   "cell_type": "code",
   "execution_count": 49,
   "id": "2fe96123-b7e8-4276-8b90-91f57cf92df4",
   "metadata": {},
   "outputs": [
    {
     "name": "stdout",
     "output_type": "stream",
     "text": [
      "\n",
      "--- ¡RESULTADO DEL MODELO MEJORADO! ---\n",
      "RMSE Anterior: 106.31\n",
      "RMSE Nuevo: 7.45\n",
      "\n",
      "¡Felicitaciones! El error se redujo. La nueva ingeniería de características fue un éxito.\n"
     ]
    }
   ],
   "source": [
    "# --- 6. Evaluar el Modelo Mejorado ---\n",
    "y_pred = model.predict(X_test)\n",
    "rmse = np.sqrt(mean_squared_error(y_test, y_pred))\n",
    "    \n",
    "print(\"\\n--- ¡RESULTADO DEL MODELO MEJORADO! ---\")\n",
    "print(f\"RMSE Anterior: 106.31\")\n",
    "print(f\"RMSE Nuevo: {rmse:.2f}\")\n",
    "\n",
    "if rmse < 106.31:\n",
    "        print(\"\\n¡Felicitaciones! El error se redujo. La nueva ingeniería de características fue un éxito.\")\n",
    "else:\n",
    "        print(\"\\nEl error no se redujo. Es un resultado de aprendizaje valioso, podemos analizar por qué.\")"
   ]
  },
  {
   "cell_type": "code",
   "execution_count": null,
   "id": "c6276ec0-bd4d-4ada-a42b-c3cfbeecb231",
   "metadata": {},
   "outputs": [],
   "source": []
  }
 ],
 "metadata": {
  "kernelspec": {
   "display_name": "Python [conda env:base] *",
   "language": "python",
   "name": "conda-base-py"
  },
  "language_info": {
   "codemirror_mode": {
    "name": "ipython",
    "version": 3
   },
   "file_extension": ".py",
   "mimetype": "text/x-python",
   "name": "python",
   "nbconvert_exporter": "python",
   "pygments_lexer": "ipython3",
   "version": "3.12.7"
  }
 },
 "nbformat": 4,
 "nbformat_minor": 5
}
