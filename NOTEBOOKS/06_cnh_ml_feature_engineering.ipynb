{
 "cells": [
  {
   "cell_type": "code",
   "execution_count": 10,
   "id": "670e0dcd-b484-4a56-be1e-338764af45fb",
   "metadata": {},
   "outputs": [],
   "source": [
    "import pandas as pd\n",
    "import xgboost as xgb\n",
    "from sklearn.model_selection import train_test_split\n",
    "from sklearn.metrics import mean_squared_error\n",
    "import numpy as np\n",
    "import os"
   ]
  },
  {
   "cell_type": "code",
   "execution_count": 50,
   "id": "792bd94f-5cea-430b-8e0a-15eb1a6a29bf",
   "metadata": {},
   "outputs": [
    {
     "name": "stdout",
     "output_type": "stream",
     "text": [
      "Ruta GOLD configurada exitosamente en: C:\\Users\\elezr\\Datalquemy\\Proyectos\\CNH\\GOLD\n"
     ]
    }
   ],
   "source": [
    "# --- 1. Definir rutas del proyecto (Usando TU método) ---\n",
    "# Este es el bloque que has confirmado que funciona en tu entorno.\n",
    "try:\n",
    "    ruta_base = os.path.abspath(os.path.join(os.getcwd(), os.pardir))\n",
    "    ruta_gold = os.path.join(ruta_base, \"GOLD\")\n",
    "    print(f\"Ruta GOLD configurada exitosamente en: {ruta_gold}\")\n",
    "except Exception as e:\n",
    "    print(f\"Error configurando las rutas: {e}\")"
   ]
  },
  {
   "cell_type": "code",
   "execution_count": 56,
   "id": "68151930-a34a-49c5-be54-d81cd7530e6f",
   "metadata": {},
   "outputs": [
    {
     "name": "stdout",
     "output_type": "stream",
     "text": [
      "\n",
      "Archivo 'top_10_campos_timeseries.parquet' cargado exitosamente.\n"
     ]
    }
   ],
   "source": [
    "# --- 2. Cargar el dataset de los 10 campos ---\n",
    "file_path_input = os.path.join(ruta_gold, \"top_10_campos_timeseries.parquet\")\n",
    "df_top_10 = pd.read_parquet(file_path_input)\n",
    "print(f\"\\nArchivo '{os.path.basename(file_path_input)}' cargado exitosamente.\")"
   ]
  },
  {
   "cell_type": "code",
   "execution_count": 62,
   "id": "06981b9c-874d-4aea-a11e-9fd7c8873b02",
   "metadata": {},
   "outputs": [
    {
     "name": "stdout",
     "output_type": "stream",
     "text": [
      "\n",
      "Iniciando ingeniería de características avanzada...\n"
     ]
    }
   ],
   "source": [
    "# --- 4. INGENIERÍA DE CARACTERÍSTICAS (VERSIÓN MEJORADA) ---\n",
    "print(\"\\nIniciando ingeniería de características avanzada...\")\n",
    "    \n",
    "df_campo['produccion_lag_1'] = df_campo['petroleo_mbd'].shift(1)\n",
    "df_campo['produccion_lag_6'] = df_campo['petroleo_mbd'].shift(6)\n",
    "df_campo['produccion_lag_12'] = df_campo['petroleo_mbd'].shift(12)\n",
    "df_campo['produccion_roll_mean_6'] = df_campo['petroleo_mbd'].rolling(window=6).mean()\n",
    "df_campo['produccion_roll_std_6'] = df_campo['petroleo_mbd'].rolling(window=6).std()\n",
    "df_campo['mes'] = df_campo.index.month\n",
    "df_campo['trimestre'] = df_campo.index.quarter\n",
    "df_campo['año'] = df_campo.index.year"
   ]
  },
  {
   "cell_type": "code",
   "execution_count": 64,
   "id": "a4d629c5-3170-458c-8ab1-22bd044172f6",
   "metadata": {},
   "outputs": [
    {
     "name": "stdout",
     "output_type": "stream",
     "text": [
      "\n",
      "DataFrame final con 97 filas listas para el modelo.\n",
      "\n",
      "¡Proceso completado!\n",
      "DataFrame con características para Maloob guardado en:\n",
      "C:\\Users\\elezr\\Datalquemy\\Proyectos\\CNH\\GOLD\\maloob_features_for_training.parquet\n"
     ]
    }
   ],
   "source": [
    "# --- 5. Preparación Final y Guardado ---\n",
    "df_modelo = df_campo.dropna()\n",
    "print(f\"\\nDataFrame final con {df_modelo.shape[0]} filas listas para el modelo.\")\n",
    "    \n",
    "nombre_archivo_salida = \"maloob_features_for_training.parquet\"\n",
    "ruta_completa_salida = os.path.join(ruta_gold, nombre_archivo_salida)\n",
    "df_modelo.to_parquet(ruta_completa_salida)\n",
    "\n",
    "print(f\"\\n¡Proceso completado!\")\n",
    "print(f\"DataFrame con características para Maloob guardado en:\")\n",
    "print(f\"{ruta_completa_salida}\")"
   ]
  },
  {
   "cell_type": "code",
   "execution_count": null,
   "id": "ee91e4d4-2203-43d1-8d7b-72c8bb64a580",
   "metadata": {},
   "outputs": [],
   "source": []
  }
 ],
 "metadata": {
  "kernelspec": {
   "display_name": "Python [conda env:base] *",
   "language": "python",
   "name": "conda-base-py"
  },
  "language_info": {
   "codemirror_mode": {
    "name": "ipython",
    "version": 3
   },
   "file_extension": ".py",
   "mimetype": "text/x-python",
   "name": "python",
   "nbconvert_exporter": "python",
   "pygments_lexer": "ipython3",
   "version": "3.12.7"
  }
 },
 "nbformat": 4,
 "nbformat_minor": 5
}
