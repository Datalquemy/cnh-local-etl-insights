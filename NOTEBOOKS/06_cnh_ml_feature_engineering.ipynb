{
 "cells": [
  {
   "cell_type": "code",
   "execution_count": 10,
   "id": "670e0dcd-b484-4a56-be1e-338764af45fb",
   "metadata": {},
   "outputs": [],
   "source": [
    "import pandas as pd\n",
    "import xgboost as xgb\n",
    "from sklearn.model_selection import train_test_split\n",
    "from sklearn.metrics import mean_squared_error\n",
    "import numpy as np\n",
    "import os"
   ]
  },
  {
   "cell_type": "code",
   "execution_count": 12,
   "id": "f08aa2dd-1262-40d7-8f1c-f14783e42e01",
   "metadata": {},
   "outputs": [],
   "source": [
    "# =======================\n",
    "# 0. Definir ruta base del proyecto\n",
    "# =======================\n",
    "ruta_base = os.path.abspath(os.path.join(os.getcwd(), \"..\"))\n",
    "ruta_gold = os.path.join(ruta_base, \"GOLD\")"
   ]
  },
  {
   "cell_type": "code",
   "execution_count": 14,
   "id": "300fc928-5d24-4255-83eb-19a821723aaa",
   "metadata": {},
   "outputs": [],
   "source": [
    "df_top_10 = pd.read_parquet(os.path.join(ruta_gold, \"top_10_campos_timeseries.parquet\"))"
   ]
  },
  {
   "cell_type": "code",
   "execution_count": 16,
   "id": "1fb5d3e0-9163-4538-bc10-4c311a7aa2c4",
   "metadata": {},
   "outputs": [],
   "source": [
    "# --- 1. Cargar los datos preparados de Maloob ---\n",
    "campo_elegido = \"MALOOB\"\n",
    "df_campo = df_top_10[df_top_10['campo'] == campo_elegido].copy()\n",
    "df_campo['fecha'] = pd.to_datetime(df_campo['fecha'])\n",
    "df_campo.set_index('fecha', inplace=True)\n",
    "df_campo['produccion_mes_anterior'] = df_campo['petroleo_mbd'].shift(1)\n",
    "df_campo['produccion_promedio_3m'] = df_campo['petroleo_mbd'].rolling(window=3).mean()\n",
    "df_campo['mes'] = df_campo.index.month\n",
    "df_campo['trimestre'] = df_campo.index.quarter\n"
   ]
  },
  {
   "cell_type": "code",
   "execution_count": 18,
   "id": "a85a21bf-47e7-4948-936d-e66637f6555d",
   "metadata": {},
   "outputs": [],
   "source": [
    "# --- 2. Preparación final para el modelo ---\n",
    "# Eliminar filas con valores nulos generados por shift() y rolling()\n",
    "df_modelo = df_campo.dropna()\n"
   ]
  },
  {
   "cell_type": "code",
   "execution_count": 20,
   "id": "97e1465f-efe7-48f0-891c-181ba6e4bab0",
   "metadata": {},
   "outputs": [],
   "source": [
    "# --- 2. Preparación final para el modelo ---\n",
    "# Eliminar filas con valores nulos generados por shift() y rolling()\n",
    "df_modelo = df_campo.dropna()"
   ]
  },
  {
   "cell_type": "code",
   "execution_count": 22,
   "id": "b4729d05-18a8-46a0-8c13-35b1bcbff430",
   "metadata": {},
   "outputs": [],
   "source": [
    "# Definir las 'pistas' (X) y lo que queremos predecir (y)\n",
    "features = ['produccion_mes_anterior', 'produccion_promedio_3m', 'mes', 'trimestre']\n",
    "target = 'petroleo_mbd'\n",
    "X = df_modelo[features]\n",
    "y = df_modelo[target]"
   ]
  },
  {
   "cell_type": "code",
   "execution_count": 24,
   "id": "e5882dbb-236d-4a6a-a515-de7b533fe6cf",
   "metadata": {},
   "outputs": [
    {
     "name": "stdout",
     "output_type": "stream",
     "text": [
      "\n",
      "Datos divididos: 85 para entrenamiento, 22 para prueba.\n"
     ]
    }
   ],
   "source": [
    "# --- 3. Dividir los datos en Entrenamiento y Prueba ---\n",
    "# Usaremos el 80% de los datos más antiguos para entrenar y el 20% más reciente para probar.\n",
    "X_train, X_test, y_train, y_test = train_test_split(X, y, test_size=0.2, shuffle=False)\n",
    "\n",
    "print(f\"\\nDatos divididos: {len(X_train)} para entrenamiento, {len(X_test)} para prueba.\")"
   ]
  },
  {
   "cell_type": "code",
   "execution_count": 26,
   "id": "4a928b05-12e3-40d5-861b-bbc3f5069451",
   "metadata": {},
   "outputs": [],
   "source": [
    "# --- 4. Entrenar el Modelo XGBoost ---\n",
    "# XGBoost es un algoritmo de \"Gradient Boosting\" muy eficaz\n",
    "model = xgb.XGBRegressor(\n",
    "    objective='reg:squarederror',\n",
    "    n_estimators=1000, # Número de \"árboles\" que construye el modelo\n",
    "    learning_rate=0.05, # Qué tan rápido aprende el modelo\n",
    "    early_stopping_rounds=5 # Detener el entrenamiento si no mejora\n",
    ")\n"
   ]
  },
  {
   "cell_type": "code",
   "execution_count": 28,
   "id": "faba452d-d774-481d-8de4-4e96fc5cb34e",
   "metadata": {},
   "outputs": [
    {
     "name": "stdout",
     "output_type": "stream",
     "text": [
      "\n",
      "Modelo entrenado exitosamente.\n"
     ]
    }
   ],
   "source": [
    "# Entrenar el modelo\n",
    "model.fit(\n",
    "    X_train, y_train,\n",
    "    eval_set=[(X_test, y_test)], # Usar los datos de prueba para ver el rendimiento\n",
    "    verbose=False # No mostrar todos los pasos del entrenamiento\n",
    ")\n",
    "\n",
    "print(\"\\nModelo entrenado exitosamente.\")"
   ]
  },
  {
   "cell_type": "code",
   "execution_count": 30,
   "id": "0b95a077-0475-460b-a9cf-ece1575e260d",
   "metadata": {},
   "outputs": [
    {
     "name": "stdout",
     "output_type": "stream",
     "text": [
      "\n",
      "Evaluación del modelo completada.\n",
      "Error Cuadrático Medio (RMSE): 4.77\n",
      "Esto significa que, en promedio, las predicciones del modelo se equivocan en 4.77 mil barriles diarios.\n"
     ]
    }
   ],
   "source": [
    "# --- 5. Evaluar el Modelo ---\n",
    "# Hacer predicciones sobre los datos de prueba\n",
    "y_pred = model.predict(X_test)\n",
    "\n",
    "# Calcular el error\n",
    "rmse = np.sqrt(mean_squared_error(y_test, y_pred))\n",
    "\n",
    "print(f\"\\nEvaluación del modelo completada.\")\n",
    "print(f\"Error Cuadrático Medio (RMSE): {rmse:.2f}\")\n",
    "print(f\"Esto significa que, en promedio, las predicciones del modelo se equivocan en {rmse:.2f} mil barriles diarios.\")\n"
   ]
  },
  {
   "cell_type": "code",
   "execution_count": 32,
   "id": "701e76d8-c62d-41a0-81cb-f1c498c97e13",
   "metadata": {},
   "outputs": [
    {
     "name": "stdout",
     "output_type": "stream",
     "text": [
      "\n",
      "DataFrame con características para Maloob guardado en:\n",
      "C:\\Users\\elezr\\Datalquemy\\Proyectos\\CNH\\GOLD\\maloob_features_for_training.parquet\n"
     ]
    }
   ],
   "source": [
    "# --- 4. Guardar el DataFrame con características en la capa GOLD ---\n",
    "\n",
    "# Eliminar filas con valores nulos generados por shift() y rolling()\n",
    "df_modelo = df_campo.dropna()\n",
    "\n",
    "nombre_archivo_salida = \"maloob_features_for_training.parquet\"\n",
    "ruta_completa_salida = os.path.join(ruta_gold, nombre_archivo_salida)\n",
    "\n",
    "df_modelo.to_parquet(ruta_completa_salida)\n",
    "\n",
    "print(f\"\\nDataFrame con características para Maloob guardado en:\")\n",
    "print(f\"{ruta_completa_salida}\")"
   ]
  },
  {
   "cell_type": "code",
   "execution_count": null,
   "id": "06981b9c-874d-4aea-a11e-9fd7c8873b02",
   "metadata": {},
   "outputs": [],
   "source": []
  }
 ],
 "metadata": {
  "kernelspec": {
   "display_name": "Python [conda env:base] *",
   "language": "python",
   "name": "conda-base-py"
  },
  "language_info": {
   "codemirror_mode": {
    "name": "ipython",
    "version": 3
   },
   "file_extension": ".py",
   "mimetype": "text/x-python",
   "name": "python",
   "nbconvert_exporter": "python",
   "pygments_lexer": "ipython3",
   "version": "3.12.7"
  }
 },
 "nbformat": 4,
 "nbformat_minor": 5
}
